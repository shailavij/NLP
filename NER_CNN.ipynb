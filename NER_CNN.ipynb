{
  "nbformat": 4,
  "nbformat_minor": 0,
  "metadata": {
    "colab": {
      "name": "NER_CNN.ipynb",
      "provenance": [],
      "authorship_tag": "ABX9TyNz4dI9lApYdnsMVMy2gIfV",
      "include_colab_link": true
    },
    "kernelspec": {
      "name": "python3",
      "display_name": "Python 3"
    },
    "language_info": {
      "name": "python"
    },
    "accelerator": "GPU"
  },
  "cells": [
    {
      "cell_type": "markdown",
      "metadata": {
        "id": "view-in-github",
        "colab_type": "text"
      },
      "source": [
        "<a href=\"https://colab.research.google.com/github/shailavij/NLP/blob/master/NER_CNN.ipynb\" target=\"_parent\"><img src=\"https://colab.research.google.com/assets/colab-badge.svg\" alt=\"Open In Colab\"/></a>"
      ]
    },
    {
      "cell_type": "code",
      "metadata": {
        "colab": {
          "base_uri": "https://localhost:8080/"
        },
        "id": "aXnTuo86YLJ1",
        "outputId": "ce66da88-2c64-42c3-a571-75a161216af4"
      },
      "source": [
        "from google.colab import drive\n",
        "drive.mount(\"/content/gdrive\")\n"
      ],
      "execution_count": 1,
      "outputs": [
        {
          "output_type": "stream",
          "text": [
            "Mounted at /content/gdrive\n"
          ],
          "name": "stdout"
        }
      ]
    },
    {
      "cell_type": "code",
      "metadata": {
        "colab": {
          "base_uri": "https://localhost:8080/"
        },
        "id": "E5TJEQK6YReT",
        "outputId": "cf185ac2-a825-4735-ddd8-e949bb18a11a"
      },
      "source": [
        "!ls"
      ],
      "execution_count": 8,
      "outputs": [
        {
          "output_type": "stream",
          "text": [
            "30_0.5_0.25_200_3_0.0105_Nadam.h5   embeddings\tnn_CoNLL.ipynb\tREADME.md\n",
            "30_0.5_0.25_200_3_0.0105_Nadam.txt  LICENSE\tprepro.py\tvalidation.py\n",
            "data\t\t\t\t    model.png\t__pycache__\n"
          ],
          "name": "stdout"
        }
      ]
    },
    {
      "cell_type": "code",
      "metadata": {
        "colab": {
          "base_uri": "https://localhost:8080/"
        },
        "id": "VjUns1RPYcQO",
        "outputId": "f6243dab-e78b-413a-9244-38ba1110d252"
      },
      "source": [
        "%cd /content/gdrive/MyDrive/NER-CNN/"
      ],
      "execution_count": 3,
      "outputs": [
        {
          "output_type": "stream",
          "text": [
            "/content/gdrive/MyDrive/NER-CNN\n"
          ],
          "name": "stdout"
        }
      ]
    },
    {
      "cell_type": "code",
      "metadata": {
        "id": "2R6HqSOxYgrX"
      },
      "source": [
        "\"\"\"Load packages\"\"\"\n",
        "\n",
        "import numpy as np\n",
        "from validation import compute_f1\n",
        "from keras.models import Model, load_model\n",
        "from keras.layers import TimeDistributed, Conv1D, Dense, Embedding, Input, Dropout, LSTM, Bidirectional, MaxPooling1D, \\\n",
        "    Flatten, concatenate\n",
        "from prepro import readfile, createBatches, createMatrices, iterate_minibatches, addCharInformation, padding\n",
        "from keras.utils import plot_model\n",
        "from keras.initializers import RandomUniform\n",
        "from keras.optimizers import SGD, Nadam"
      ],
      "execution_count": 4,
      "outputs": []
    },
    {
      "cell_type": "code",
      "metadata": {
        "colab": {
          "base_uri": "https://localhost:8080/"
        },
        "id": "3xQyNl7sYoe5",
        "outputId": "1966ecb7-209f-457d-c792-ef3783699978"
      },
      "source": [
        "\"\"\"Initialise class\"\"\"\n",
        "\n",
        "class CNN_BLSTM(object):\n",
        "    \n",
        "    def __init__(self, EPOCHS, DROPOUT, DROPOUT_RECURRENT, LSTM_STATE_SIZE, CONV_SIZE, LEARNING_RATE, OPTIMIZER):\n",
        "        \n",
        "        self.epochs = EPOCHS\n",
        "        self.dropout = DROPOUT\n",
        "        self.dropout_recurrent = DROPOUT_RECURRENT\n",
        "        self.lstm_state_size = LSTM_STATE_SIZE\n",
        "        self.conv_size = CONV_SIZE\n",
        "        self.learning_rate = LEARNING_RATE\n",
        "        self.optimizer = OPTIMIZER\n",
        "        \n",
        "    def loadData(self):\n",
        "        \"\"\"Load data and add character information\"\"\"\n",
        "        self.trainSentences = readfile(\"data/train.txt\")\n",
        "        self.devSentences = readfile(\"data/dev.txt\")\n",
        "        self.testSentences = readfile(\"data/test.txt\")\n",
        "\n",
        "    def addCharInfo(self):\n",
        "        # format: [['EU', ['E', 'U'], 'B-ORG\\n'], ...]\n",
        "        self.trainSentences = addCharInformation(self.trainSentences)\n",
        "        self.devSentences = addCharInformation(self.devSentences)\n",
        "        self.testSentences = addCharInformation(self.testSentences)\n",
        "\n",
        "    def embed(self):\n",
        "        \"\"\"Create word- and character-level embeddings\"\"\"\n",
        "\n",
        "        labelSet = set()\n",
        "        words = {}\n",
        "\n",
        "        # unique words and labels in data  \n",
        "        for dataset in [self.trainSentences, self.devSentences, self.testSentences]:\n",
        "            for sentence in dataset:\n",
        "                for token, char, label in sentence:\n",
        "                    # token ... token, char ... list of chars, label ... BIO labels   \n",
        "                    labelSet.add(label)\n",
        "                    words[token.lower()] = True\n",
        "\n",
        "        # mapping for labels\n",
        "        self.label2Idx = {}\n",
        "        for label in labelSet:\n",
        "            self.label2Idx[label] = len(self.label2Idx)\n",
        "\n",
        "        # mapping for token cases\n",
        "        case2Idx = {'numeric': 0, 'allLower': 1, 'allUpper': 2, 'initialUpper': 3, 'other': 4, 'mainly_numeric': 5,\n",
        "                    'contains_digit': 6, 'PADDING_TOKEN': 7}\n",
        "        self.caseEmbeddings = np.identity(len(case2Idx), dtype='float32')  # identity matrix used \n",
        "\n",
        "        # read GLoVE word embeddings\n",
        "        word2Idx = {}\n",
        "        self.wordEmbeddings = []\n",
        "\n",
        "        fEmbeddings = open(\"embeddings/glove.6B.100d.txt\", encoding=\"utf-8\")\n",
        "\n",
        "        # loop through each word in embeddings\n",
        "        for line in fEmbeddings:\n",
        "            split = line.strip().split(\" \")\n",
        "            word = split[0]  # embedding word entry\n",
        "\n",
        "            if len(word2Idx) == 0:  # add padding+unknown\n",
        "                word2Idx[\"PADDING_TOKEN\"] = len(word2Idx)\n",
        "                vector = np.zeros(len(split) - 1)  # zero vector for 'PADDING' word\n",
        "                self.wordEmbeddings.append(vector)\n",
        "\n",
        "                word2Idx[\"UNKNOWN_TOKEN\"] = len(word2Idx)\n",
        "                vector = np.random.uniform(-0.25, 0.25, len(split) - 1)\n",
        "                self.wordEmbeddings.append(vector)\n",
        "\n",
        "            if split[0].lower() in words:\n",
        "                vector = np.array([float(num) for num in split[1:]])\n",
        "                self.wordEmbeddings.append(vector)  # word embedding vector\n",
        "                word2Idx[split[0]] = len(word2Idx)  # corresponding word dict\n",
        "\n",
        "        self.wordEmbeddings = np.array(self.wordEmbeddings)\n",
        "\n",
        "        # dictionary of all possible characters\n",
        "        self.char2Idx = {\"PADDING\": 0, \"UNKNOWN\": 1}\n",
        "        for c in \" 0123456789abcdefghijklmnopqrstuvwxyzABCDEFGHIJKLMNOPQRSTUVWXYZ.,-_()[]{}!?:;#'\\\"/\\\\%$`&=*+@^~|<>\":\n",
        "            self.char2Idx[c] = len(self.char2Idx)\n",
        "\n",
        "        # format: [[wordindices], [caseindices], [padded word indices], [label indices]]\n",
        "        self.train_set = padding(createMatrices(self.trainSentences, word2Idx, self.label2Idx, case2Idx, self.char2Idx))\n",
        "        self.dev_set = padding(createMatrices(self.devSentences, word2Idx, self.label2Idx, case2Idx, self.char2Idx))\n",
        "        self.test_set = padding(createMatrices(self.testSentences, word2Idx, self.label2Idx, case2Idx, self.char2Idx))\n",
        "\n",
        "        self.idx2Label = {v: k for k, v in self.label2Idx.items()}\n",
        "        \n",
        "    def createBatches(self):\n",
        "        \"\"\"Create batches\"\"\"\n",
        "        self.train_batch, self.train_batch_len = createBatches(self.train_set)\n",
        "        self.dev_batch, self.dev_batch_len = createBatches(self.dev_set)\n",
        "        self.test_batch, self.test_batch_len = createBatches(self.test_set)\n",
        "        \n",
        "    def tag_dataset(self, dataset, model):\n",
        "        \"\"\"Tag data with numerical values\"\"\"\n",
        "        correctLabels = []\n",
        "        predLabels = []\n",
        "        for i, data in enumerate(dataset):\n",
        "            tokens, casing, char, labels = data\n",
        "            tokens = np.asarray([tokens])\n",
        "            casing = np.asarray([casing])\n",
        "            char = np.asarray([char])\n",
        "            pred = model.predict([tokens, casing, char], verbose=False)[0]\n",
        "            pred = pred.argmax(axis=-1)  # Predict the classes\n",
        "            correctLabels.append(labels)\n",
        "            predLabels.append(pred)\n",
        "        return predLabels, correctLabels\n",
        "    \n",
        "    def buildModel(self):\n",
        "        \"\"\"Model layers\"\"\"\n",
        "\n",
        "        # character input\n",
        "        character_input = Input(shape=(None, 52,), name=\"Character_input\")\n",
        "        embed_char_out = TimeDistributed(\n",
        "            Embedding(len(self.char2Idx), 30, embeddings_initializer=RandomUniform(minval=-0.5, maxval=0.5)), name=\"Character_embedding\")(\n",
        "            character_input)\n",
        "\n",
        "        dropout = Dropout(self.dropout)(embed_char_out)\n",
        "\n",
        "        # CNN\n",
        "        conv1d_out = TimeDistributed(Conv1D(kernel_size=self.conv_size, filters=30, padding='same', activation='tanh', strides=1), name=\"Convolution\")(dropout)\n",
        "        maxpool_out = TimeDistributed(MaxPooling1D(52), name=\"Maxpool\")(conv1d_out)\n",
        "        char = TimeDistributed(Flatten(), name=\"Flatten\")(maxpool_out)\n",
        "        char = Dropout(self.dropout)(char)\n",
        "\n",
        "        # word-level input\n",
        "        words_input = Input(shape=(None,), dtype='int32', name='words_input')\n",
        "        words = Embedding(input_dim=self.wordEmbeddings.shape[0], output_dim=self.wordEmbeddings.shape[1], weights=[self.wordEmbeddings],\n",
        "                          trainable=False)(words_input)\n",
        "\n",
        "        # case-info input\n",
        "        casing_input = Input(shape=(None,), dtype='int32', name='casing_input')\n",
        "        casing = Embedding(output_dim=self.caseEmbeddings.shape[1], input_dim=self.caseEmbeddings.shape[0], weights=[self.caseEmbeddings],\n",
        "                           trainable=False)(casing_input)\n",
        "\n",
        "        # concat & BLSTM\n",
        "        output = concatenate([words, casing, char])\n",
        "        output = Bidirectional(LSTM(self.lstm_state_size, \n",
        "                                    return_sequences=True, \n",
        "                                    dropout=self.dropout,                        # on input to each LSTM block\n",
        "                                    recurrent_dropout=self.dropout_recurrent     # on recurrent input signal\n",
        "                                   ), name=\"BLSTM\")(output)\n",
        "        output = TimeDistributed(Dense(len(self.label2Idx), activation='softmax'),name=\"Softmax_layer\")(output)\n",
        "\n",
        "        # set up model\n",
        "        self.model = Model(inputs=[words_input, casing_input, character_input], outputs=[output])\n",
        "        \n",
        "        self.model.compile(loss='sparse_categorical_crossentropy', optimizer=self.optimizer)\n",
        "        \n",
        "        self.init_weights = self.model.get_weights()\n",
        "        \n",
        "        plot_model(self.model, to_file='model.png')\n",
        "        \n",
        "        print(\"Model built. Saved model.png\\n\")\n",
        "        \n",
        "    def train(self):\n",
        "        \"\"\"Default training\"\"\"\n",
        "\n",
        "        self.f1_test_history = []\n",
        "        self.f1_dev_history = []\n",
        "\n",
        "        for epoch in range(self.epochs):    \n",
        "            print(\"Epoch {}/{}\".format(epoch, self.epochs))\n",
        "            for i,batch in enumerate(iterate_minibatches(self.train_batch,self.train_batch_len)):\n",
        "                labels, tokens, casing,char = batch       \n",
        "                self.model.train_on_batch([tokens, casing,char], labels)\n",
        "\n",
        "            # compute F1 scores\n",
        "            predLabels, correctLabels = self.tag_dataset(self.test_batch, self.model)\n",
        "            pre_test, rec_test, f1_test = compute_f1(predLabels, correctLabels, self.idx2Label)\n",
        "            self.f1_test_history.append(f1_test)\n",
        "            print(\"f1 test \", round(f1_test, 4))\n",
        "\n",
        "            predLabels, correctLabels = self.tag_dataset(self.dev_batch, self.model)\n",
        "            pre_dev, rec_dev, f1_dev = compute_f1(predLabels, correctLabels, self.idx2Label)\n",
        "            self.f1_dev_history.append(f1_dev)\n",
        "            print(\"f1 dev \", round(f1_dev, 4), \"\\n\")\n",
        "            \n",
        "        print(\"Final F1 test score: \", f1_test)\n",
        "            \n",
        "        print(\"Training finished.\")\n",
        "            \n",
        "        # save model\n",
        "        self.modelName = \"{}_{}_{}_{}_{}_{}_{}\".format(self.epochs, \n",
        "                                                        self.dropout, \n",
        "                                                        self.dropout_recurrent, \n",
        "                                                        self.lstm_state_size,\n",
        "                                                        self.conv_size,\n",
        "                                                        self.learning_rate,\n",
        "                                                        self.optimizer.__class__.__name__\n",
        "                                                       )\n",
        "        \n",
        "        modelName = self.modelName + \".h5\"\n",
        "        self.model.save(modelName)\n",
        "        print(\"Model weights saved.\")\n",
        "        \n",
        "        self.model.set_weights(self.init_weights)  # clear model\n",
        "        print(\"Model weights cleared.\")\n",
        "\n",
        "    def writeToFile(self):\n",
        "        \"\"\"Write output to file\"\"\"\n",
        "\n",
        "        # .txt file format\n",
        "        # [epoch  ]\n",
        "        # [f1_test]\n",
        "        # [f1_dev ]\n",
        "        \n",
        "        output = np.matrix([[int(i) for i in range(self.epochs)], self.f1_test_history, self.f1_dev_history])\n",
        "\n",
        "        fileName = self.modelName + \".txt\"\n",
        "        with open(fileName,'wb') as f:\n",
        "            for line in output:\n",
        "                np.savetxt(f, line, fmt='%.5f')\n",
        "                \n",
        "        print(\"Model performance written to file.\")\n",
        "\n",
        "    print(\"Class initialised.\")"
      ],
      "execution_count": 5,
      "outputs": [
        {
          "output_type": "stream",
          "text": [
            "Class initialised.\n"
          ],
          "name": "stdout"
        }
      ]
    },
    {
      "cell_type": "code",
      "metadata": {
        "id": "W4rQllmjYvVJ"
      },
      "source": [
        "\"\"\"Set parameters\"\"\"\n",
        "\n",
        "EPOCHS = 30               # paper: 80\n",
        "DROPOUT = 0.5             # paper: 0.68\n",
        "DROPOUT_RECURRENT = 0.25  # not specified in paper, 0.25 recommended\n",
        "LSTM_STATE_SIZE = 200     # paper: 275\n",
        "CONV_SIZE = 3             # paper: 3\n",
        "LEARNING_RATE = 0.0105    # paper 0.0105\n",
        "OPTIMIZER = Nadam()       # paper uses SGD(lr=self.learning_rate), Nadam() recommended"
      ],
      "execution_count": 6,
      "outputs": []
    },
    {
      "cell_type": "code",
      "metadata": {
        "colab": {
          "base_uri": "https://localhost:8080/"
        },
        "id": "RVgU1FMMY5TI",
        "outputId": "28786a9c-338d-423c-a100-e4db46a79722"
      },
      "source": [
        "\"\"\"Construct and run model\"\"\"\n",
        "\n",
        "cnn_blstm = CNN_BLSTM(EPOCHS, DROPOUT, DROPOUT_RECURRENT, LSTM_STATE_SIZE, CONV_SIZE, LEARNING_RATE, OPTIMIZER)\n",
        "cnn_blstm.loadData()\n",
        "cnn_blstm.addCharInfo()\n",
        "cnn_blstm.embed()\n",
        "cnn_blstm.createBatches()\n",
        "cnn_blstm.buildModel()\n",
        "cnn_blstm.train()\n",
        "cnn_blstm.writeToFile()"
      ],
      "execution_count": 7,
      "outputs": [
        {
          "output_type": "stream",
          "text": [
            "WARNING:tensorflow:Layer lstm will not use cuDNN kernel since it doesn't meet the cuDNN kernel criteria. It will use generic GPU kernel as fallback when running on GPU\n",
            "WARNING:tensorflow:Layer lstm will not use cuDNN kernel since it doesn't meet the cuDNN kernel criteria. It will use generic GPU kernel as fallback when running on GPU\n",
            "WARNING:tensorflow:Layer lstm will not use cuDNN kernel since it doesn't meet the cuDNN kernel criteria. It will use generic GPU kernel as fallback when running on GPU\n",
            "Model built. Saved model.png\n",
            "\n",
            "Epoch 0/30\n",
            "f1 test  0.1329\n",
            "f1 dev  0.1528 \n",
            "\n",
            "Epoch 1/30\n",
            "f1 test  0.5758\n",
            "f1 dev  0.6102 \n",
            "\n",
            "Epoch 2/30\n",
            "f1 test  0.6618\n",
            "f1 dev  0.6951 \n",
            "\n",
            "Epoch 3/30\n",
            "f1 test  0.7073\n",
            "f1 dev  0.7277 \n",
            "\n",
            "Epoch 4/30\n",
            "f1 test  0.7497\n",
            "f1 dev  0.7732 \n",
            "\n",
            "Epoch 5/30\n",
            "f1 test  0.7615\n",
            "f1 dev  0.7631 \n",
            "\n",
            "Epoch 6/30\n",
            "f1 test  0.7958\n",
            "f1 dev  0.8123 \n",
            "\n",
            "Epoch 7/30\n",
            "f1 test  0.7969\n",
            "f1 dev  0.8125 \n",
            "\n",
            "Epoch 8/30\n",
            "f1 test  0.8034\n",
            "f1 dev  0.8213 \n",
            "\n",
            "Epoch 9/30\n",
            "f1 test  0.8043\n",
            "f1 dev  0.8192 \n",
            "\n",
            "Epoch 10/30\n",
            "f1 test  0.8173\n",
            "f1 dev  0.8426 \n",
            "\n",
            "Epoch 11/30\n",
            "f1 test  0.8164\n",
            "f1 dev  0.8409 \n",
            "\n",
            "Epoch 12/30\n",
            "f1 test  0.8227\n",
            "f1 dev  0.8428 \n",
            "\n",
            "Epoch 13/30\n",
            "f1 test  0.826\n",
            "f1 dev  0.8514 \n",
            "\n",
            "Epoch 14/30\n",
            "f1 test  0.8423\n",
            "f1 dev  0.8666 \n",
            "\n",
            "Epoch 15/30\n",
            "f1 test  0.8456\n",
            "f1 dev  0.8676 \n",
            "\n",
            "Epoch 16/30\n",
            "f1 test  0.8411\n",
            "f1 dev  0.8643 \n",
            "\n",
            "Epoch 17/30\n",
            "f1 test  0.8406\n",
            "f1 dev  0.8732 \n",
            "\n",
            "Epoch 18/30\n",
            "f1 test  0.8457\n",
            "f1 dev  0.8787 \n",
            "\n",
            "Epoch 19/30\n",
            "f1 test  0.8485\n",
            "f1 dev  0.8748 \n",
            "\n",
            "Epoch 20/30\n",
            "f1 test  0.8523\n",
            "f1 dev  0.8816 \n",
            "\n",
            "Epoch 21/30\n",
            "f1 test  0.855\n",
            "f1 dev  0.8837 \n",
            "\n",
            "Epoch 22/30\n",
            "f1 test  0.8532\n",
            "f1 dev  0.8813 \n",
            "\n",
            "Epoch 23/30\n",
            "f1 test  0.8408\n",
            "f1 dev  0.8795 \n",
            "\n",
            "Epoch 24/30\n",
            "f1 test  0.8466\n",
            "f1 dev  0.8799 \n",
            "\n",
            "Epoch 25/30\n",
            "f1 test  0.8588\n",
            "f1 dev  0.8893 \n",
            "\n",
            "Epoch 26/30\n",
            "f1 test  0.8648\n",
            "f1 dev  0.8974 \n",
            "\n",
            "Epoch 27/30\n",
            "f1 test  0.8643\n",
            "f1 dev  0.9042 \n",
            "\n",
            "Epoch 28/30\n",
            "f1 test  0.8674\n",
            "f1 dev  0.901 \n",
            "\n",
            "Epoch 29/30\n",
            "f1 test  0.8709\n",
            "f1 dev  0.9051 \n",
            "\n",
            "Final F1 test score:  0.870851307333392\n",
            "Training finished.\n",
            "Model weights saved.\n",
            "Model weights cleared.\n",
            "Model performance written to file.\n"
          ],
          "name": "stdout"
        }
      ]
    },
    {
      "cell_type": "markdown",
      "metadata": {
        "id": "VRu51GE25AIY"
      },
      "source": [
        "#Plot learning curve"
      ]
    },
    {
      "cell_type": "code",
      "metadata": {
        "colab": {
          "base_uri": "https://localhost:8080/",
          "height": 229
        },
        "id": "qZK2RAwaY62C",
        "outputId": "7872d941-54e3-4c74-8b2d-ebcdb6c234f4"
      },
      "source": [
        "import matplotlib.pyplot as plt\n",
        "plt.plot(cnn_blstm.f1_test_history, label = \"F1 test\")\n",
        "plt.plot(cnn_blstm.f1_dev_history, label = \"F1 dev\")\n",
        "plt.xlabel(\"Epochs\")\n",
        "plt.ylabel(\"F1 score\")\n",
        "plt.legend()\n",
        "plt.show()"
      ],
      "execution_count": 12,
      "outputs": [
        {
          "output_type": "error",
          "ename": "AttributeError",
          "evalue": "ignored",
          "traceback": [
            "\u001b[0;31m---------------------------------------------------------------------------\u001b[0m",
            "\u001b[0;31mAttributeError\u001b[0m                            Traceback (most recent call last)",
            "\u001b[0;32m<ipython-input-12-d4fa83d579d4>\u001b[0m in \u001b[0;36m<module>\u001b[0;34m()\u001b[0m\n\u001b[1;32m      1\u001b[0m \u001b[0;32mimport\u001b[0m \u001b[0mmatplotlib\u001b[0m\u001b[0;34m.\u001b[0m\u001b[0mpyplot\u001b[0m \u001b[0;32mas\u001b[0m \u001b[0mplt\u001b[0m\u001b[0;34m\u001b[0m\u001b[0;34m\u001b[0m\u001b[0m\n\u001b[0;32m----> 2\u001b[0;31m \u001b[0mplt\u001b[0m\u001b[0;34m.\u001b[0m\u001b[0mplot\u001b[0m\u001b[0;34m(\u001b[0m\u001b[0mcnn_blstm\u001b[0m\u001b[0;34m.\u001b[0m\u001b[0mf1_test_history\u001b[0m\u001b[0;34m,\u001b[0m \u001b[0mlabel\u001b[0m \u001b[0;34m=\u001b[0m \u001b[0;34m\"F1 test\"\u001b[0m\u001b[0;34m)\u001b[0m\u001b[0;34m\u001b[0m\u001b[0;34m\u001b[0m\u001b[0m\n\u001b[0m\u001b[1;32m      3\u001b[0m \u001b[0mplt\u001b[0m\u001b[0;34m.\u001b[0m\u001b[0mplot\u001b[0m\u001b[0;34m(\u001b[0m\u001b[0mcnn_blstm\u001b[0m\u001b[0;34m.\u001b[0m\u001b[0mf1_dev_history\u001b[0m\u001b[0;34m,\u001b[0m \u001b[0mlabel\u001b[0m \u001b[0;34m=\u001b[0m \u001b[0;34m\"F1 dev\"\u001b[0m\u001b[0;34m)\u001b[0m\u001b[0;34m\u001b[0m\u001b[0;34m\u001b[0m\u001b[0m\n\u001b[1;32m      4\u001b[0m \u001b[0mplt\u001b[0m\u001b[0;34m.\u001b[0m\u001b[0mxlabel\u001b[0m\u001b[0;34m(\u001b[0m\u001b[0;34m\"Epochs\"\u001b[0m\u001b[0;34m)\u001b[0m\u001b[0;34m\u001b[0m\u001b[0;34m\u001b[0m\u001b[0m\n\u001b[1;32m      5\u001b[0m \u001b[0mplt\u001b[0m\u001b[0;34m.\u001b[0m\u001b[0mylabel\u001b[0m\u001b[0;34m(\u001b[0m\u001b[0;34m\"F1 score\"\u001b[0m\u001b[0;34m)\u001b[0m\u001b[0;34m\u001b[0m\u001b[0;34m\u001b[0m\u001b[0m\n",
            "\u001b[0;31mAttributeError\u001b[0m: 'CNN_BLSTM' object has no attribute 'f1_test_history'"
          ]
        }
      ]
    },
    {
      "cell_type": "markdown",
      "metadata": {
        "id": "pwJuPjp45E1j"
      },
      "source": [
        "#Label distribution"
      ]
    },
    {
      "cell_type": "code",
      "metadata": {
        "colab": {
          "base_uri": "https://localhost:8080/"
        },
        "id": "I6eX-Frg5GRn",
        "outputId": "28a80067-d1f2-4ad3-f3f6-6afcb5be7de5"
      },
      "source": [
        "cnn_blstm = CNN_BLSTM(EPOCHS, DROPOUT, DROPOUT_RECURRENT, LSTM_STATE_SIZE, CONV_SIZE, LEARNING_RATE, OPTIMIZER)\n",
        "cnn_blstm.loadData()\n",
        "\n",
        "category_count = {\"B-ORG\\n\": 0, \"I-ORG\\n\":0, \"B-MISC\\n\": 0, \"I-MISC\\n\":0, \"B-LOC\\n\": 0, \"I-LOC\\n\": 0, \"B-PER\\n\": 0, \"I-PER\\n\": 0, \"O\\n\": 0}\n",
        "total_count = 0\n",
        "\n",
        "for sentence in cnn_blstm.trainSentences:\n",
        "    for word in sentence:\n",
        "        if word[1] in category_count.keys():\n",
        "            category_count[word[1]] += 1\n",
        "            total_count += 1\n",
        "\n",
        "for category, count in category_count.items():\n",
        "    print(\"{}: {}%\".format(category.replace(\"\\n\", \"\"), round((count/total_count)*100, 2)))"
      ],
      "execution_count": 9,
      "outputs": [
        {
          "output_type": "stream",
          "text": [
            "B-ORG: 3.1%\n",
            "I-ORG: 1.82%\n",
            "B-MISC: 1.69%\n",
            "I-MISC: 0.57%\n",
            "B-LOC: 3.51%\n",
            "I-LOC: 0.57%\n",
            "B-PER: 3.24%\n",
            "I-PER: 2.22%\n",
            "O: 83.28%\n"
          ],
          "name": "stdout"
        }
      ]
    },
    {
      "cell_type": "code",
      "metadata": {
        "id": "1zfs6v-X5IRU"
      },
      "source": [
        ""
      ],
      "execution_count": null,
      "outputs": []
    }
  ]
}