{
  "nbformat": 4,
  "nbformat_minor": 0,
  "metadata": {
    "colab": {
      "name": "Score_model.ipynb",
      "provenance": [],
      "collapsed_sections": [],
      "authorship_tag": "ABX9TyP7Z45KcJpcHWBV7qKDovHh",
      "include_colab_link": true
    },
    "kernelspec": {
      "name": "python3",
      "display_name": "Python 3"
    }
  },
  "cells": [
    {
      "cell_type": "markdown",
      "metadata": {
        "id": "view-in-github",
        "colab_type": "text"
      },
      "source": [
        "<a href=\"https://colab.research.google.com/github/shailavij/NLP/blob/master/Score_model.ipynb\" target=\"_parent\"><img src=\"https://colab.research.google.com/assets/colab-badge.svg\" alt=\"Open In Colab\"/></a>"
      ]
    },
    {
      "cell_type": "code",
      "metadata": {
        "id": "uH5LuQ87NxcT",
        "colab": {
          "base_uri": "https://localhost:8080/"
        },
        "outputId": "864071c2-342b-48bb-c8ab-97d2006cea9a"
      },
      "source": [
        "!pip install sentence-transformers"
      ],
      "execution_count": null,
      "outputs": [
        {
          "output_type": "stream",
          "text": [
            "Collecting sentence-transformers\n",
            "\u001b[?25l  Downloading https://files.pythonhosted.org/packages/6a/e2/84d6acfcee2d83164149778a33b6bdd1a74e1bcb59b2b2cd1b861359b339/sentence-transformers-0.4.1.2.tar.gz (64kB)\n",
            "\u001b[K     |████████████████████████████████| 71kB 3.4MB/s \n",
            "\u001b[?25hCollecting transformers<5.0.0,>=3.1.0\n",
            "\u001b[?25l  Downloading https://files.pythonhosted.org/packages/98/87/ef312eef26f5cecd8b17ae9654cdd8d1fae1eb6dbd87257d6d73c128a4d0/transformers-4.3.2-py3-none-any.whl (1.8MB)\n",
            "\u001b[K     |████████████████████████████████| 1.8MB 6.6MB/s \n",
            "\u001b[?25hRequirement already satisfied: tqdm in /usr/local/lib/python3.6/dist-packages (from sentence-transformers) (4.41.1)\n",
            "Requirement already satisfied: torch>=1.6.0 in /usr/local/lib/python3.6/dist-packages (from sentence-transformers) (1.7.0+cu101)\n",
            "Requirement already satisfied: numpy in /usr/local/lib/python3.6/dist-packages (from sentence-transformers) (1.19.5)\n",
            "Requirement already satisfied: scikit-learn in /usr/local/lib/python3.6/dist-packages (from sentence-transformers) (0.22.2.post1)\n",
            "Requirement already satisfied: scipy in /usr/local/lib/python3.6/dist-packages (from sentence-transformers) (1.4.1)\n",
            "Requirement already satisfied: nltk in /usr/local/lib/python3.6/dist-packages (from sentence-transformers) (3.2.5)\n",
            "Collecting sentencepiece\n",
            "\u001b[?25l  Downloading https://files.pythonhosted.org/packages/14/67/e42bd1181472c95c8cda79305df848264f2a7f62740995a46945d9797b67/sentencepiece-0.1.95-cp36-cp36m-manylinux2014_x86_64.whl (1.2MB)\n",
            "\u001b[K     |████████████████████████████████| 1.2MB 21.0MB/s \n",
            "\u001b[?25hRequirement already satisfied: regex!=2019.12.17 in /usr/local/lib/python3.6/dist-packages (from transformers<5.0.0,>=3.1.0->sentence-transformers) (2019.12.20)\n",
            "Requirement already satisfied: requests in /usr/local/lib/python3.6/dist-packages (from transformers<5.0.0,>=3.1.0->sentence-transformers) (2.23.0)\n",
            "Requirement already satisfied: filelock in /usr/local/lib/python3.6/dist-packages (from transformers<5.0.0,>=3.1.0->sentence-transformers) (3.0.12)\n",
            "Collecting tokenizers<0.11,>=0.10.1\n",
            "\u001b[?25l  Downloading https://files.pythonhosted.org/packages/fd/5b/44baae602e0a30bcc53fbdbc60bd940c15e143d252d658dfdefce736ece5/tokenizers-0.10.1-cp36-cp36m-manylinux2010_x86_64.whl (3.2MB)\n",
            "\u001b[K     |████████████████████████████████| 3.2MB 40.7MB/s \n",
            "\u001b[?25hCollecting sacremoses\n",
            "\u001b[?25l  Downloading https://files.pythonhosted.org/packages/7d/34/09d19aff26edcc8eb2a01bed8e98f13a1537005d31e95233fd48216eed10/sacremoses-0.0.43.tar.gz (883kB)\n",
            "\u001b[K     |████████████████████████████████| 890kB 51.0MB/s \n",
            "\u001b[?25hRequirement already satisfied: importlib-metadata; python_version < \"3.8\" in /usr/local/lib/python3.6/dist-packages (from transformers<5.0.0,>=3.1.0->sentence-transformers) (3.4.0)\n",
            "Requirement already satisfied: packaging in /usr/local/lib/python3.6/dist-packages (from transformers<5.0.0,>=3.1.0->sentence-transformers) (20.9)\n",
            "Requirement already satisfied: dataclasses; python_version < \"3.7\" in /usr/local/lib/python3.6/dist-packages (from transformers<5.0.0,>=3.1.0->sentence-transformers) (0.8)\n",
            "Requirement already satisfied: typing-extensions in /usr/local/lib/python3.6/dist-packages (from torch>=1.6.0->sentence-transformers) (3.7.4.3)\n",
            "Requirement already satisfied: future in /usr/local/lib/python3.6/dist-packages (from torch>=1.6.0->sentence-transformers) (0.16.0)\n",
            "Requirement already satisfied: joblib>=0.11 in /usr/local/lib/python3.6/dist-packages (from scikit-learn->sentence-transformers) (1.0.0)\n",
            "Requirement already satisfied: six in /usr/local/lib/python3.6/dist-packages (from nltk->sentence-transformers) (1.15.0)\n",
            "Requirement already satisfied: urllib3!=1.25.0,!=1.25.1,<1.26,>=1.21.1 in /usr/local/lib/python3.6/dist-packages (from requests->transformers<5.0.0,>=3.1.0->sentence-transformers) (1.24.3)\n",
            "Requirement already satisfied: chardet<4,>=3.0.2 in /usr/local/lib/python3.6/dist-packages (from requests->transformers<5.0.0,>=3.1.0->sentence-transformers) (3.0.4)\n",
            "Requirement already satisfied: idna<3,>=2.5 in /usr/local/lib/python3.6/dist-packages (from requests->transformers<5.0.0,>=3.1.0->sentence-transformers) (2.10)\n",
            "Requirement already satisfied: certifi>=2017.4.17 in /usr/local/lib/python3.6/dist-packages (from requests->transformers<5.0.0,>=3.1.0->sentence-transformers) (2020.12.5)\n",
            "Requirement already satisfied: click in /usr/local/lib/python3.6/dist-packages (from sacremoses->transformers<5.0.0,>=3.1.0->sentence-transformers) (7.1.2)\n",
            "Requirement already satisfied: zipp>=0.5 in /usr/local/lib/python3.6/dist-packages (from importlib-metadata; python_version < \"3.8\"->transformers<5.0.0,>=3.1.0->sentence-transformers) (3.4.0)\n",
            "Requirement already satisfied: pyparsing>=2.0.2 in /usr/local/lib/python3.6/dist-packages (from packaging->transformers<5.0.0,>=3.1.0->sentence-transformers) (2.4.7)\n",
            "Building wheels for collected packages: sentence-transformers, sacremoses\n",
            "  Building wheel for sentence-transformers (setup.py) ... \u001b[?25l\u001b[?25hdone\n",
            "  Created wheel for sentence-transformers: filename=sentence_transformers-0.4.1.2-cp36-none-any.whl size=103068 sha256=0bd7dcfc4361be22b81486c3ac53f213a199b40af9ff405b9ef175637aab8a55\n",
            "  Stored in directory: /root/.cache/pip/wheels/3d/33/d1/5703dd56199c09d4a1b41e0c07fb4e7765a84d787cbdc48ac3\n",
            "  Building wheel for sacremoses (setup.py) ... \u001b[?25l\u001b[?25hdone\n",
            "  Created wheel for sacremoses: filename=sacremoses-0.0.43-cp36-none-any.whl size=893261 sha256=f0b306c35139adf23c3a75c9e5f73723956d5a761f48f0e1cfd5b103265c4793\n",
            "  Stored in directory: /root/.cache/pip/wheels/29/3c/fd/7ce5c3f0666dab31a50123635e6fb5e19ceb42ce38d4e58f45\n",
            "Successfully built sentence-transformers sacremoses\n",
            "Installing collected packages: tokenizers, sacremoses, transformers, sentencepiece, sentence-transformers\n",
            "Successfully installed sacremoses-0.0.43 sentence-transformers-0.4.1.2 sentencepiece-0.1.95 tokenizers-0.10.1 transformers-4.3.2\n"
          ],
          "name": "stdout"
        }
      ]
    },
    {
      "cell_type": "code",
      "metadata": {
        "id": "FHYXtQtlOtaP"
      },
      "source": [
        "import numpy as np\r\n",
        "import spacy\r\n",
        "import os\r\n",
        "from spacy.matcher import PhraseMatcher\r\n",
        "nlp = spacy.load(\"en_core_web_sm\")"
      ],
      "execution_count": null,
      "outputs": []
    },
    {
      "cell_type": "code",
      "metadata": {
        "colab": {
          "base_uri": "https://localhost:8080/"
        },
        "id": "ObxJtuKPRtxB",
        "outputId": "3247d6ac-b9fd-4b1c-9bce-496bda954985"
      },
      "source": [
        "from sentence_transformers import SentenceTransformer\r\n",
        "sbert_model = SentenceTransformer('bert-base-nli-mean-tokens')"
      ],
      "execution_count": null,
      "outputs": [
        {
          "output_type": "stream",
          "text": [
            "100%|██████████| 405M/405M [00:19<00:00, 20.7MB/s]\n"
          ],
          "name": "stderr"
        }
      ]
    },
    {
      "cell_type": "code",
      "metadata": {
        "id": "OCWUQw0OSPoT"
      },
      "source": [
        "content=\"'welcome utility switchboard sam , help today. looking energy supplier switch scottish power , could please guide go ahead switching process. could please provide postcode address. staying harrow , london . could please confirm age 18 . yes 30 years old. tenant owner house. tenant , residing past 10 months. looking supplier switch gas , electricity dual fuel.will property smart meter installed kind meter u have. economy 7 meter installed house. looking best energy supplier , optimise existing energy tariff. could please provide actual energy usage past last 6 months kwh .\""
      ],
      "execution_count": null,
      "outputs": []
    },
    {
      "cell_type": "code",
      "metadata": {
        "id": "f3QYIzDSSSfX"
      },
      "source": [
        "# Sentence Segmentation\r\n",
        "doc = nlp(content)\r\n",
        "con1=[]\r\n",
        "for i in doc.sents:\r\n",
        "    con1.append(i)"
      ],
      "execution_count": null,
      "outputs": []
    },
    {
      "cell_type": "code",
      "metadata": {
        "colab": {
          "base_uri": "https://localhost:8080/"
        },
        "id": "lp_xC_7wTvbb",
        "outputId": "d238fb93-1e25-46f8-bb49-91d84a23a1e1"
      },
      "source": [
        "con1"
      ],
      "execution_count": null,
      "outputs": [
        {
          "output_type": "execute_result",
          "data": {
            "text/plain": [
              "['welcome utility switchboard sam , help today.,\n",
              " looking energy supplier switch scottish power , could please guide go ahead switching process.,\n",
              " could please provide postcode address.,\n",
              " staying harrow , london .,\n",
              " could please confirm age 18 .,\n",
              " yes 30 years old.,\n",
              " tenant owner house.,\n",
              " tenant , residing past 10 months.,\n",
              " looking supplier switch gas , electricity dual fuel.will property smart meter installed kind meter u have.,\n",
              " economy 7 meter installed house.,\n",
              " looking best energy supplier , optimise existing energy tariff.,\n",
              " could please provide actual energy usage past last 6 months kwh .]"
            ]
          },
          "metadata": {
            "tags": []
          },
          "execution_count": 7
        }
      ]
    },
    {
      "cell_type": "code",
      "metadata": {
        "colab": {
          "base_uri": "https://localhost:8080/"
        },
        "id": "GgqiD6PxU_Gq",
        "outputId": "56a7c44e-2b74-4e46-d8e9-f3554d645fe9"
      },
      "source": [
        "type(con1)"
      ],
      "execution_count": null,
      "outputs": [
        {
          "output_type": "execute_result",
          "data": {
            "text/plain": [
              "list"
            ]
          },
          "metadata": {
            "tags": []
          },
          "execution_count": 8
        }
      ]
    },
    {
      "cell_type": "code",
      "metadata": {
        "colab": {
          "base_uri": "https://localhost:8080/"
        },
        "id": "87oPQg30UoBp",
        "outputId": "8f7dfa8c-e6ff-40b2-ec6b-0f77f89b1dd6"
      },
      "source": [
        "#con2=[]\r\n",
        "for i in con1:\r\n",
        "  print('\"{0}\"'.format(i))\r\n",
        "  #con2.append(i)"
      ],
      "execution_count": null,
      "outputs": [
        {
          "output_type": "stream",
          "text": [
            "\"'welcome utility switchboard sam , help today.\"\n",
            "\"looking energy supplier switch scottish power , could please guide go ahead switching process.\"\n",
            "\"could please provide postcode address.\"\n",
            "\"staying harrow , london .\"\n",
            "\"could please confirm age 18 .\"\n",
            "\"yes 30 years old.\"\n",
            "\"tenant owner house.\"\n",
            "\"tenant , residing past 10 months.\"\n",
            "\"looking supplier switch gas , electricity dual fuel.will property smart meter installed kind meter u have.\"\n",
            "\"economy 7 meter installed house.\"\n",
            "\"looking best energy supplier , optimise existing energy tariff.\"\n",
            "\"could please provide actual energy usage past last 6 months kwh .\"\n"
          ],
          "name": "stdout"
        }
      ]
    },
    {
      "cell_type": "code",
      "metadata": {
        "id": "OFVjAQdzVsay"
      },
      "source": [
        "# With data cleansing (Removal of stop words)\r\n",
        "sentences = [\"welcome utility switchboard sam , help today.\",\r\n",
        "\"looking energy supplier switch scottish power , could please guide go ahead switching process.\",\r\n",
        "\"could please provide postcode address.\",\r\n",
        "\"staying harrow , london .\",\r\n",
        "\"could please confirm age 18 .\",\r\n",
        "\"yes 30 years old.\",\r\n",
        "\"tenant owner house.\",\r\n",
        "\"tenant , residing past 10 months.\",\r\n",
        "\"looking supplier switch gas , electricity dual fuel.will property smart meter installed kind meter u have.\",\r\n",
        "\"economy 7 meter installed house.\",\r\n",
        "\"looking best energy supplier , optimise existing energy tariff.\",\r\n",
        "\"could please provide actual energy usage past last 6 months kwh .\"]"
      ],
      "execution_count": null,
      "outputs": []
    },
    {
      "cell_type": "code",
      "metadata": {
        "id": "Eikb_YGreAer"
      },
      "source": [
        "# Without data cleansing\r\n",
        "cn2=['Welcome to utility switchboard I am sam, how can I help you today. ',\r\n",
        " 'I am looking for Energy supplier switch from Scottish power , could you please guide me how can I go ahead to switching process.',\r\n",
        " 'Could you please provide your postcode and address. ',\r\n",
        " 'I am staying in Harrow , London .',\r\n",
        " 'Could you please confirm your age is above 18 .',\r\n",
        " 'Yes I am above 30 years old.',\r\n",
        " 'Are you a tenant or owner of house.',\r\n",
        " 'I am tenant, residing over here for past 10 months.',\r\n",
        " 'Are you looking for supplier switch for Gas, Electricity or Dual Fuel.',\r\n",
        " 'Will your property have smart meter installed or what kind of meter do u have.',\r\n",
        " 'I am having Economy 7 meter installed in my house.',\r\n",
        " 'I am looking for best energy supplier, so that I can optimise my existing energy tariff. ',\r\n",
        " 'Could you please provide your actual energy usage past last 6 months in kWH.']"
      ],
      "execution_count": null,
      "outputs": []
    },
    {
      "cell_type": "code",
      "metadata": {
        "colab": {
          "base_uri": "https://localhost:8080/"
        },
        "id": "N85FIgYjRuOO",
        "outputId": "55f04893-c2e6-4f49-8694-3331959ddcad"
      },
      "source": [
        "sentence_embeddings = sbert_model.encode(sentences)\r\n",
        "\r\n",
        "print('Sample BERT embedding vector - length', len(sentence_embeddings[2]))"
      ],
      "execution_count": null,
      "outputs": [
        {
          "output_type": "stream",
          "text": [
            "Sample BERT embedding vector - length 768\n"
          ],
          "name": "stdout"
        }
      ]
    },
    {
      "cell_type": "code",
      "metadata": {
        "id": "t9viMpllR7ff"
      },
      "source": [
        "QA_list=[\"did the agent introduce their name and that we're utility switchboard?\",\r\n",
        " 'did the agent confirm the postcode and first line of the address?',\r\n",
        " 'did the agent confirm the person was over the age of 18',\r\n",
        " 'did the agent confirm if the customer wanted to quote gas, electricity or dual fuel?',\r\n",
        " 'did the agent confirm if the customer knew their current supplier?']"
      ],
      "execution_count": null,
      "outputs": []
    },
    {
      "cell_type": "code",
      "metadata": {
        "id": "cluzfO8NW-yq"
      },
      "source": [
        "QA_list1=\" are you age above 18\""
      ],
      "execution_count": null,
      "outputs": []
    },
    {
      "cell_type": "code",
      "metadata": {
        "colab": {
          "base_uri": "https://localhost:8080/"
        },
        "id": "w8CA_QvHWPRB",
        "outputId": "4e29864e-d7a4-4d92-de66-5b63f37b3cbe"
      },
      "source": [
        "type(QA_list)"
      ],
      "execution_count": null,
      "outputs": [
        {
          "output_type": "execute_result",
          "data": {
            "text/plain": [
              "list"
            ]
          },
          "metadata": {
            "tags": []
          },
          "execution_count": 32
        }
      ]
    },
    {
      "cell_type": "code",
      "metadata": {
        "colab": {
          "base_uri": "https://localhost:8080/"
        },
        "id": "69_FH4VTWRsC",
        "outputId": "740cbb55-aa03-4a78-ce08-855913bfbdb4"
      },
      "source": [
        "query_vec= sbert_model.encode([QA_list])[0]\r\n",
        "print('Sample BERT embedding vector_Query - length', len(query_vec))"
      ],
      "execution_count": null,
      "outputs": [
        {
          "output_type": "stream",
          "text": [
            "Sample BERT embedding vector_Query - length 768\n"
          ],
          "name": "stdout"
        }
      ]
    },
    {
      "cell_type": "code",
      "metadata": {
        "id": "7jmRdlAnWdT1"
      },
      "source": [
        "def cosine(u, v):\r\n",
        "    return np.dot(u, v) / (np.linalg.norm(u) * np.linalg.norm(v))"
      ],
      "execution_count": null,
      "outputs": []
    },
    {
      "cell_type": "code",
      "metadata": {
        "colab": {
          "base_uri": "https://localhost:8080/"
        },
        "id": "u8JH_IgiWrF8",
        "outputId": "b68b63e2-be0a-4c08-dd8b-cec2cc7e7187"
      },
      "source": [
        "for sent in cn2:\r\n",
        "  sim = cosine(query_vec, sbert_model.encode([sent])[0])\r\n",
        "  print(\"Sentence = \", sent, \"; similarity = \", sim)"
      ],
      "execution_count": null,
      "outputs": [
        {
          "output_type": "stream",
          "text": [
            "Sentence =  Welcome to utility switchboard I am sam, how can I help you today.  ; similarity =  0.6991432\n",
            "Sentence =  I am looking for Energy supplier switch from Scottish power , could you please guide me how can I go ahead to switching process. ; similarity =  0.60444343\n",
            "Sentence =  Could you please provide your postcode and address.  ; similarity =  0.69152105\n",
            "Sentence =  I am staying in Harrow , London . ; similarity =  0.3180336\n",
            "Sentence =  Could you please confirm your age is above 18 . ; similarity =  0.47124594\n",
            "Sentence =  Yes I am above 30 years old. ; similarity =  0.2690796\n",
            "Sentence =  Are you a tenant or owner of house. ; similarity =  0.45709643\n",
            "Sentence =  I am tenant, residing over here for past 10 months. ; similarity =  0.28795767\n",
            "Sentence =  Are you looking for supplier switch for Gas, Electricity or Dual Fuel. ; similarity =  0.61191726\n",
            "Sentence =  Will your property have smart meter installed or what kind of meter do u have. ; similarity =  0.6324555\n",
            "Sentence =  I am having Economy 7 meter installed in my house. ; similarity =  0.30536422\n",
            "Sentence =  I am looking for best energy supplier, so that I can optimise my existing energy tariff.  ; similarity =  0.5751637\n",
            "Sentence =  Could you please provide your actual energy usage past last 6 months in kWH. ; similarity =  0.40318704\n"
          ],
          "name": "stdout"
        }
      ]
    },
    {
      "cell_type": "code",
      "metadata": {
        "id": "Q4BlBZ9ZWxbT"
      },
      "source": [
        "# To test for list of Questions"
      ],
      "execution_count": null,
      "outputs": []
    },
    {
      "cell_type": "code",
      "metadata": {
        "colab": {
          "base_uri": "https://localhost:8080/"
        },
        "id": "YzWc3KR7axIt",
        "outputId": "85a46f86-5fc0-4b83-809b-2fa744e30ae1"
      },
      "source": [
        "for i in QA_list:\r\n",
        "  query_vec= sbert_model.encode(QA_list)[0]\r\n",
        "  #print('Sample BERT embedding vector_Query - length', len(query_vec))\r\n",
        "  for sent in sentences:\r\n",
        "    sim = cosine(query_vec, sbert_model.encode([sent])[0])\r\n",
        "    #if (sim>0.666):\r\n",
        "    print(\"Query= \",i, \"; Sentence = \", sent, \"; similarity = \", sim)"
      ],
      "execution_count": null,
      "outputs": [
        {
          "output_type": "stream",
          "text": [
            "Query=  did the agent introduce their name and that we're utility switchboard? ; Sentence =  welcome utility switchboard sam , help today. ; similarity =  0.64105034\n",
            "Query=  did the agent introduce their name and that we're utility switchboard? ; Sentence =  looking energy supplier switch scottish power , could please guide go ahead switching process. ; similarity =  0.6692296\n",
            "Query=  did the agent introduce their name and that we're utility switchboard? ; Sentence =  could please provide postcode address. ; similarity =  0.48503426\n",
            "Query=  did the agent introduce their name and that we're utility switchboard? ; Sentence =  staying harrow , london . ; similarity =  0.3163387\n",
            "Query=  did the agent introduce their name and that we're utility switchboard? ; Sentence =  could please confirm age 18 . ; similarity =  0.39130348\n",
            "Query=  did the agent introduce their name and that we're utility switchboard? ; Sentence =  yes 30 years old. ; similarity =  0.20658116\n",
            "Query=  did the agent introduce their name and that we're utility switchboard? ; Sentence =  tenant owner house. ; similarity =  0.44285813\n",
            "Query=  did the agent introduce their name and that we're utility switchboard? ; Sentence =  tenant , residing past 10 months. ; similarity =  0.24292399\n",
            "Query=  did the agent introduce their name and that we're utility switchboard? ; Sentence =  looking supplier switch gas , electricity dual fuel.will property smart meter installed kind meter u have. ; similarity =  0.654078\n",
            "Query=  did the agent introduce their name and that we're utility switchboard? ; Sentence =  economy 7 meter installed house. ; similarity =  0.27526355\n",
            "Query=  did the agent introduce their name and that we're utility switchboard? ; Sentence =  looking best energy supplier , optimise existing energy tariff. ; similarity =  0.5632873\n",
            "Query=  did the agent introduce their name and that we're utility switchboard? ; Sentence =  could please provide actual energy usage past last 6 months kwh . ; similarity =  0.3724501\n",
            "Query=  did the agent confirm the postcode and first line of the address? ; Sentence =  welcome utility switchboard sam , help today. ; similarity =  0.64105034\n",
            "Query=  did the agent confirm the postcode and first line of the address? ; Sentence =  looking energy supplier switch scottish power , could please guide go ahead switching process. ; similarity =  0.6692296\n",
            "Query=  did the agent confirm the postcode and first line of the address? ; Sentence =  could please provide postcode address. ; similarity =  0.48503426\n",
            "Query=  did the agent confirm the postcode and first line of the address? ; Sentence =  staying harrow , london . ; similarity =  0.3163387\n",
            "Query=  did the agent confirm the postcode and first line of the address? ; Sentence =  could please confirm age 18 . ; similarity =  0.39130348\n",
            "Query=  did the agent confirm the postcode and first line of the address? ; Sentence =  yes 30 years old. ; similarity =  0.20658116\n",
            "Query=  did the agent confirm the postcode and first line of the address? ; Sentence =  tenant owner house. ; similarity =  0.44285813\n",
            "Query=  did the agent confirm the postcode and first line of the address? ; Sentence =  tenant , residing past 10 months. ; similarity =  0.24292399\n",
            "Query=  did the agent confirm the postcode and first line of the address? ; Sentence =  looking supplier switch gas , electricity dual fuel.will property smart meter installed kind meter u have. ; similarity =  0.654078\n",
            "Query=  did the agent confirm the postcode and first line of the address? ; Sentence =  economy 7 meter installed house. ; similarity =  0.27526355\n",
            "Query=  did the agent confirm the postcode and first line of the address? ; Sentence =  looking best energy supplier , optimise existing energy tariff. ; similarity =  0.5632873\n",
            "Query=  did the agent confirm the postcode and first line of the address? ; Sentence =  could please provide actual energy usage past last 6 months kwh . ; similarity =  0.3724501\n",
            "Query=  did the agent confirm the person was over the age of 18 ; Sentence =  welcome utility switchboard sam , help today. ; similarity =  0.64105034\n",
            "Query=  did the agent confirm the person was over the age of 18 ; Sentence =  looking energy supplier switch scottish power , could please guide go ahead switching process. ; similarity =  0.6692296\n",
            "Query=  did the agent confirm the person was over the age of 18 ; Sentence =  could please provide postcode address. ; similarity =  0.48503426\n",
            "Query=  did the agent confirm the person was over the age of 18 ; Sentence =  staying harrow , london . ; similarity =  0.3163387\n",
            "Query=  did the agent confirm the person was over the age of 18 ; Sentence =  could please confirm age 18 . ; similarity =  0.39130348\n",
            "Query=  did the agent confirm the person was over the age of 18 ; Sentence =  yes 30 years old. ; similarity =  0.20658116\n",
            "Query=  did the agent confirm the person was over the age of 18 ; Sentence =  tenant owner house. ; similarity =  0.44285813\n",
            "Query=  did the agent confirm the person was over the age of 18 ; Sentence =  tenant , residing past 10 months. ; similarity =  0.24292399\n",
            "Query=  did the agent confirm the person was over the age of 18 ; Sentence =  looking supplier switch gas , electricity dual fuel.will property smart meter installed kind meter u have. ; similarity =  0.654078\n",
            "Query=  did the agent confirm the person was over the age of 18 ; Sentence =  economy 7 meter installed house. ; similarity =  0.27526355\n",
            "Query=  did the agent confirm the person was over the age of 18 ; Sentence =  looking best energy supplier , optimise existing energy tariff. ; similarity =  0.5632873\n",
            "Query=  did the agent confirm the person was over the age of 18 ; Sentence =  could please provide actual energy usage past last 6 months kwh . ; similarity =  0.3724501\n",
            "Query=  did the agent confirm if the customer wanted to quote gas, electricity or dual fuel? ; Sentence =  welcome utility switchboard sam , help today. ; similarity =  0.64105034\n",
            "Query=  did the agent confirm if the customer wanted to quote gas, electricity or dual fuel? ; Sentence =  looking energy supplier switch scottish power , could please guide go ahead switching process. ; similarity =  0.6692296\n",
            "Query=  did the agent confirm if the customer wanted to quote gas, electricity or dual fuel? ; Sentence =  could please provide postcode address. ; similarity =  0.48503426\n",
            "Query=  did the agent confirm if the customer wanted to quote gas, electricity or dual fuel? ; Sentence =  staying harrow , london . ; similarity =  0.3163387\n",
            "Query=  did the agent confirm if the customer wanted to quote gas, electricity or dual fuel? ; Sentence =  could please confirm age 18 . ; similarity =  0.39130348\n",
            "Query=  did the agent confirm if the customer wanted to quote gas, electricity or dual fuel? ; Sentence =  yes 30 years old. ; similarity =  0.20658116\n",
            "Query=  did the agent confirm if the customer wanted to quote gas, electricity or dual fuel? ; Sentence =  tenant owner house. ; similarity =  0.44285813\n",
            "Query=  did the agent confirm if the customer wanted to quote gas, electricity or dual fuel? ; Sentence =  tenant , residing past 10 months. ; similarity =  0.24292399\n",
            "Query=  did the agent confirm if the customer wanted to quote gas, electricity or dual fuel? ; Sentence =  looking supplier switch gas , electricity dual fuel.will property smart meter installed kind meter u have. ; similarity =  0.654078\n",
            "Query=  did the agent confirm if the customer wanted to quote gas, electricity or dual fuel? ; Sentence =  economy 7 meter installed house. ; similarity =  0.27526355\n",
            "Query=  did the agent confirm if the customer wanted to quote gas, electricity or dual fuel? ; Sentence =  looking best energy supplier , optimise existing energy tariff. ; similarity =  0.5632873\n",
            "Query=  did the agent confirm if the customer wanted to quote gas, electricity or dual fuel? ; Sentence =  could please provide actual energy usage past last 6 months kwh . ; similarity =  0.3724501\n",
            "Query=  did the agent confirm if the customer knew their current supplier? ; Sentence =  welcome utility switchboard sam , help today. ; similarity =  0.64105034\n",
            "Query=  did the agent confirm if the customer knew their current supplier? ; Sentence =  looking energy supplier switch scottish power , could please guide go ahead switching process. ; similarity =  0.6692296\n",
            "Query=  did the agent confirm if the customer knew their current supplier? ; Sentence =  could please provide postcode address. ; similarity =  0.48503426\n",
            "Query=  did the agent confirm if the customer knew their current supplier? ; Sentence =  staying harrow , london . ; similarity =  0.3163387\n",
            "Query=  did the agent confirm if the customer knew their current supplier? ; Sentence =  could please confirm age 18 . ; similarity =  0.39130348\n",
            "Query=  did the agent confirm if the customer knew their current supplier? ; Sentence =  yes 30 years old. ; similarity =  0.20658116\n",
            "Query=  did the agent confirm if the customer knew their current supplier? ; Sentence =  tenant owner house. ; similarity =  0.44285813\n",
            "Query=  did the agent confirm if the customer knew their current supplier? ; Sentence =  tenant , residing past 10 months. ; similarity =  0.24292399\n",
            "Query=  did the agent confirm if the customer knew their current supplier? ; Sentence =  looking supplier switch gas , electricity dual fuel.will property smart meter installed kind meter u have. ; similarity =  0.654078\n",
            "Query=  did the agent confirm if the customer knew their current supplier? ; Sentence =  economy 7 meter installed house. ; similarity =  0.27526355\n",
            "Query=  did the agent confirm if the customer knew their current supplier? ; Sentence =  looking best energy supplier , optimise existing energy tariff. ; similarity =  0.5632873\n",
            "Query=  did the agent confirm if the customer knew their current supplier? ; Sentence =  could please provide actual energy usage past last 6 months kwh . ; similarity =  0.3724501\n"
          ],
          "name": "stdout"
        }
      ]
    },
    {
      "cell_type": "markdown",
      "metadata": {
        "id": "9j_X9WZ-kr2m"
      },
      "source": [
        "## Score_Model (paraphrase-distilroberta-base-v1)"
      ]
    },
    {
      "cell_type": "code",
      "metadata": {
        "id": "86n9fFDHtS5W",
        "colab": {
          "base_uri": "https://localhost:8080/"
        },
        "outputId": "68abaab7-8f18-4b57-8492-490b0ba3324c"
      },
      "source": [
        "\r\n",
        "\"\"\"This is a simple application for sentence embeddings: semantic search\r\n",
        "\r\n",
        "We have a corpus with various sentences. Then, for a given query sentence,\r\n",
        "we want to find the most similar sentence in this corpus.\r\n",
        "\r\n",
        "This script outputs for various queries the top 5 most similar sentences in the corpus.\r\n",
        "\"\"\"\r\n",
        "from sentence_transformers import SentenceTransformer, util\r\n",
        "import torch\r\n",
        "\r\n",
        "embedder = SentenceTransformer('paraphrase-distilroberta-base-v1')\r\n",
        "#embedder = SentenceTransformer('msmarco-distilbert-base-v2')\r\n",
        "# Corpus with example sentences\r\n",
        "corpus = cn2\r\n",
        "corpus_embeddings = embedder.encode(corpus, convert_to_tensor=True)\r\n",
        "\r\n",
        "# Query sentences:\r\n",
        "#queries = [\" Welcome to utilityswitchboard iam rahul\"]\r\n",
        "queries =QA_list\r\n",
        "\r\n",
        "# Find the closest 5 sentences of the corpus for each query sentence based on cosine similarity\r\n",
        "top_k = min(5, len(corpus))\r\n",
        "for query in queries:\r\n",
        "    query_embedding = embedder.encode(query, convert_to_tensor=True)\r\n",
        "\r\n",
        "    # We use cosine-similarity and torch.topk to find the highest 5 scores\r\n",
        "    cos_scores = util.pytorch_cos_sim(query_embedding, corpus_embeddings)[0]\r\n",
        "    top_results = torch.topk(cos_scores, k=top_k)\r\n",
        "\r\n",
        "    print(\"\\n\\n======================\\n\\n\")\r\n",
        "    print(\"Query:\", query)\r\n",
        "    print(\"\\nTop 5 most similar sentences in corpus:\")\r\n",
        "\r\n",
        "    for score, idx in zip(top_results[0], top_results[1]):\r\n",
        "        print(corpus[idx], \"(Score: {:.4f})\".format(score))\r\n",
        "\r\n",
        " "
      ],
      "execution_count": null,
      "outputs": [
        {
          "output_type": "stream",
          "text": [
            "\n",
            "\n",
            "======================\n",
            "\n",
            "\n",
            "Query: did the agent introduce their name and that we're utility switchboard?\n",
            "\n",
            "Top 5 most similar sentences in corpus:\n",
            "Welcome to utility switchboard I am sam, how can I help you today.  (Score: 0.5190)\n",
            "Could you please provide your postcode and address.  (Score: 0.3535)\n",
            "I am looking for Energy supplier switch from Scottish power , could you please guide me how can I go ahead to switching process. (Score: 0.3340)\n",
            "Are you a tenant or owner of house. (Score: 0.3198)\n",
            "Are you looking for supplier switch for Gas, Electricity or Dual Fuel. (Score: 0.2956)\n",
            "\n",
            "\n",
            "======================\n",
            "\n",
            "\n",
            "Query: did the agent confirm the postcode and first line of the address?\n",
            "\n",
            "Top 5 most similar sentences in corpus:\n",
            "Could you please provide your postcode and address.  (Score: 0.6147)\n",
            "Are you a tenant or owner of house. (Score: 0.3236)\n",
            "Could you please confirm your age is above 18 . (Score: 0.3145)\n",
            "I am tenant, residing over here for past 10 months. (Score: 0.2746)\n",
            "Will your property have smart meter installed or what kind of meter do u have. (Score: 0.2599)\n",
            "\n",
            "\n",
            "======================\n",
            "\n",
            "\n",
            "Query: did the agent confirm the person was over the age of 18\n",
            "\n",
            "Top 5 most similar sentences in corpus:\n",
            "Could you please confirm your age is above 18 . (Score: 0.5806)\n",
            "Yes I am above 30 years old. (Score: 0.3634)\n",
            "Are you a tenant or owner of house. (Score: 0.2922)\n",
            "I am tenant, residing over here for past 10 months. (Score: 0.2498)\n",
            "Could you please provide your postcode and address.  (Score: 0.2483)\n",
            "\n",
            "\n",
            "======================\n",
            "\n",
            "\n",
            "Query: did the agent confirm if the customer wanted to quote gas, electricity or dual fuel?\n",
            "\n",
            "Top 5 most similar sentences in corpus:\n",
            "Are you looking for supplier switch for Gas, Electricity or Dual Fuel. (Score: 0.5538)\n",
            "Could you please provide your actual energy usage past last 6 months in kWH. (Score: 0.3711)\n",
            "I am looking for Energy supplier switch from Scottish power , could you please guide me how can I go ahead to switching process. (Score: 0.3552)\n",
            "Will your property have smart meter installed or what kind of meter do u have. (Score: 0.2901)\n",
            "Are you a tenant or owner of house. (Score: 0.2790)\n",
            "\n",
            "\n",
            "======================\n",
            "\n",
            "\n",
            "Query: did the agent confirm if the customer knew their current supplier?\n",
            "\n",
            "Top 5 most similar sentences in corpus:\n",
            "Are you a tenant or owner of house. (Score: 0.3307)\n",
            "Could you please confirm your age is above 18 . (Score: 0.2769)\n",
            "I am tenant, residing over here for past 10 months. (Score: 0.2732)\n",
            "Are you looking for supplier switch for Gas, Electricity or Dual Fuel. (Score: 0.2574)\n",
            "Could you please provide your postcode and address.  (Score: 0.2401)\n"
          ],
          "name": "stdout"
        }
      ]
    },
    {
      "cell_type": "code",
      "metadata": {
        "colab": {
          "base_uri": "https://localhost:8080/"
        },
        "id": "36TbpZnelsyP",
        "outputId": "0978c7fc-a705-4e63-f462-3f62ac657084"
      },
      "source": [
        "\"\"\"This is a simple application for sentence embeddings: semantic search\r\n",
        "\r\n",
        "We have a corpus with various sentences. Then, for a given query sentence,\r\n",
        "we want to find the most similar sentence in this corpus.\r\n",
        "\r\n",
        "This script outputs for various queries the top 5 most similar sentences in the corpus.\r\n",
        "\"\"\"\r\n",
        "from sentence_transformers import SentenceTransformer, util\r\n",
        "import torch\r\n",
        "\r\n",
        "embedder = SentenceTransformer('paraphrase-distilroberta-base-v1')\r\n",
        "#embedder = SentenceTransformer('msmarco-distilbert-base-v2')\r\n",
        "# Corpus with example sentences\r\n",
        "corpus = cn2\r\n",
        "corpus_embeddings = embedder.encode(corpus, convert_to_tensor=True)\r\n",
        "\r\n",
        "# Query sentences:\r\n",
        "#queries = [\" Welcome to utilityswitchboard iam rahul\"]\r\n",
        "queries =QA_list\r\n",
        "\r\n",
        "# Find the closest 5 sentences of the corpus for each query sentence based on cosine similarity\r\n",
        "top_k = min(5, len(corpus))\r\n",
        "tot =0\r\n",
        "count=0\r\n",
        "for query in queries:\r\n",
        "    \r\n",
        "    query_embedding = embedder.encode(query, convert_to_tensor=True)\r\n",
        "\r\n",
        "    # We use cosine-similarity and torch.topk to find the highest 5 scores\r\n",
        "    cos_scores = util.pytorch_cos_sim(query_embedding, corpus_embeddings)[0]\r\n",
        "    top_results = torch.topk(cos_scores, k=top_k)\r\n",
        "\r\n",
        "    print(\"\\n\\n======================\\n\\n\")\r\n",
        "    print(\"Query:\", query)\r\n",
        "    print(\"\\nTop 5 most similar sentences in corpus:\")\r\n",
        "    \r\n",
        "    for score, idx in zip(top_results[0], top_results[1]):\r\n",
        "        #print(corpus[idx], \"(Score: {:.4f})\".format(score))\r\n",
        "        # Score for each Question is 20 , if sentence matched within Question list\r\n",
        "        if(score >0.5):\r\n",
        "          count +=1\r\n",
        "          tot +=20\r\n",
        "          print(corpus[idx], \"(Score: {:.4f})\".format(score))\r\n",
        "          #print(count)\r\n",
        "          \r\n",
        "        \r\n",
        "print(\"\\n\\n======================\\n\\n\")\r\n",
        "print(\"Total\",count,\"Questions found in Query list and score\",tot)\r\n"
      ],
      "execution_count": null,
      "outputs": [
        {
          "output_type": "stream",
          "text": [
            "\n",
            "\n",
            "======================\n",
            "\n",
            "\n",
            "Query: did the agent introduce their name and that we're utility switchboard?\n",
            "\n",
            "Top 5 most similar sentences in corpus:\n",
            "Welcome to utility switchboard I am sam, how can I help you today.  (Score: 0.5190)\n",
            "\n",
            "\n",
            "======================\n",
            "\n",
            "\n",
            "Query: did the agent confirm the postcode and first line of the address?\n",
            "\n",
            "Top 5 most similar sentences in corpus:\n",
            "Could you please provide your postcode and address.  (Score: 0.6147)\n",
            "\n",
            "\n",
            "======================\n",
            "\n",
            "\n",
            "Query: did the agent confirm the person was over the age of 18\n",
            "\n",
            "Top 5 most similar sentences in corpus:\n",
            "Could you please confirm your age is above 18 . (Score: 0.5806)\n",
            "\n",
            "\n",
            "======================\n",
            "\n",
            "\n",
            "Query: did the agent confirm if the customer wanted to quote gas, electricity or dual fuel?\n",
            "\n",
            "Top 5 most similar sentences in corpus:\n",
            "Are you looking for supplier switch for Gas, Electricity or Dual Fuel. (Score: 0.5538)\n",
            "\n",
            "\n",
            "======================\n",
            "\n",
            "\n",
            "Query: did the agent confirm if the customer knew their current supplier?\n",
            "\n",
            "Top 5 most similar sentences in corpus:\n",
            "\n",
            "\n",
            "======================\n",
            "\n",
            "\n",
            "Total 4 Question found in list and score 80\n"
          ],
          "name": "stdout"
        }
      ]
    },
    {
      "cell_type": "code",
      "metadata": {
        "id": "lrx-hziGb23h"
      },
      "source": [
        ""
      ],
      "execution_count": null,
      "outputs": []
    }
  ]
}