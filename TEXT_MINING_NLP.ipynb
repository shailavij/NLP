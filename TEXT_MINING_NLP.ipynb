{
  "nbformat": 4,
  "nbformat_minor": 0,
  "metadata": {
    "colab": {
      "name": "TEXT_MINING_NLP.ipynb",
      "provenance": [],
      "authorship_tag": "ABX9TyOETyob83FQSy/W89T1pXD8",
      "include_colab_link": true
    },
    "kernelspec": {
      "name": "python3",
      "display_name": "Python 3"
    }
  },
  "cells": [
    {
      "cell_type": "markdown",
      "metadata": {
        "id": "view-in-github",
        "colab_type": "text"
      },
      "source": [
        "<a href=\"https://colab.research.google.com/github/shailavij/NLP/blob/master/TEXT_MINING_NLP.ipynb\" target=\"_parent\"><img src=\"https://colab.research.google.com/assets/colab-badge.svg\" alt=\"Open In Colab\"/></a>"
      ]
    },
    {
      "cell_type": "code",
      "metadata": {
        "id": "fPJe6pT7le4q",
        "colab_type": "code",
        "colab": {
          "base_uri": "https://localhost:8080/",
          "height": 70
        },
        "outputId": "2a7b3629-f553-4099-fa94-17efd4707889"
      },
      "source": [
        "# Import packages\n",
        "import os\n",
        "import nltk\n",
        "import nltk.corpus\n",
        "nltk.download('gutenberg')\n"
      ],
      "execution_count": null,
      "outputs": [
        {
          "output_type": "stream",
          "text": [
            "[nltk_data] Downloading package gutenberg to /root/nltk_data...\n",
            "[nltk_data]   Unzipping corpora/gutenberg.zip.\n"
          ],
          "name": "stdout"
        },
        {
          "output_type": "execute_result",
          "data": {
            "text/plain": [
              "True"
            ]
          },
          "metadata": {
            "tags": []
          },
          "execution_count": 9
        }
      ]
    },
    {
      "cell_type": "code",
      "metadata": {
        "id": "YwaXgF6fnBzN",
        "colab_type": "code",
        "colab": {
          "base_uri": "https://localhost:8080/",
          "height": 52
        },
        "outputId": "180bd7c9-06d1-4de7-a7fe-4c81b2bf63cb"
      },
      "source": [
        "pip install nltk"
      ],
      "execution_count": null,
      "outputs": [
        {
          "output_type": "stream",
          "text": [
            "Requirement already satisfied: nltk in /usr/local/lib/python3.6/dist-packages (3.2.5)\n",
            "Requirement already satisfied: six in /usr/local/lib/python3.6/dist-packages (from nltk) (1.12.0)\n"
          ],
          "name": "stdout"
        }
      ]
    },
    {
      "cell_type": "code",
      "metadata": {
        "id": "g8R_Ypu8mFRT",
        "colab_type": "code",
        "colab": {
          "base_uri": "https://localhost:8080/",
          "height": 34
        },
        "outputId": "745f9aa6-7fe4-41c9-ddf6-4102f8e774bf"
      },
      "source": [
        "print(os.listdir(nltk.data.find('corpora')))"
      ],
      "execution_count": null,
      "outputs": [
        {
          "output_type": "stream",
          "text": [
            "['gutenberg.zip', 'gutenberg']\n"
          ],
          "name": "stdout"
        }
      ]
    },
    {
      "cell_type": "code",
      "metadata": {
        "id": "7nTOPVrxmQtO",
        "colab_type": "code",
        "colab": {
          "base_uri": "https://localhost:8080/",
          "height": 336
        },
        "outputId": "3bb457e0-a27d-40d2-e46b-61c95078fefc"
      },
      "source": [
        "nltk.corpus.gutenberg.fileids()"
      ],
      "execution_count": null,
      "outputs": [
        {
          "output_type": "execute_result",
          "data": {
            "text/plain": [
              "['austen-emma.txt',\n",
              " 'austen-persuasion.txt',\n",
              " 'austen-sense.txt',\n",
              " 'bible-kjv.txt',\n",
              " 'blake-poems.txt',\n",
              " 'bryant-stories.txt',\n",
              " 'burgess-busterbrown.txt',\n",
              " 'carroll-alice.txt',\n",
              " 'chesterton-ball.txt',\n",
              " 'chesterton-brown.txt',\n",
              " 'chesterton-thursday.txt',\n",
              " 'edgeworth-parents.txt',\n",
              " 'melville-moby_dick.txt',\n",
              " 'milton-paradise.txt',\n",
              " 'shakespeare-caesar.txt',\n",
              " 'shakespeare-hamlet.txt',\n",
              " 'shakespeare-macbeth.txt',\n",
              " 'whitman-leaves.txt']"
            ]
          },
          "metadata": {
            "tags": []
          },
          "execution_count": 10
        }
      ]
    },
    {
      "cell_type": "code",
      "metadata": {
        "id": "9iJCTeMZm5Xs",
        "colab_type": "code",
        "colab": {
          "base_uri": "https://localhost:8080/",
          "height": 34
        },
        "outputId": "a5826e0c-5678-4d61-c9eb-074bc9dad897"
      },
      "source": [
        "hamlet=nltk.corpus.gutenberg.words('shakespeare-hamlet.txt')\n",
        "hamlet\n"
      ],
      "execution_count": null,
      "outputs": [
        {
          "output_type": "execute_result",
          "data": {
            "text/plain": [
              "['[', 'The', 'Tragedie', 'of', 'Hamlet', 'by', ...]"
            ]
          },
          "metadata": {
            "tags": []
          },
          "execution_count": 13
        }
      ]
    },
    {
      "cell_type": "code",
      "metadata": {
        "id": "xmHPf6hToy-T",
        "colab_type": "code",
        "colab": {
          "base_uri": "https://localhost:8080/",
          "height": 54
        },
        "outputId": "94f9af38-2de0-4986-bfa5-8404bb4108f5"
      },
      "source": [
        " # TO read first 500 word of text file\n",
        "for word in hamlet[0:500]:\n",
        "  print(word,sep=\"\",end=\" \")\n",
        "  "
      ],
      "execution_count": null,
      "outputs": [
        {
          "output_type": "stream",
          "text": [
            "[ The Tragedie of Hamlet by William Shakespeare 1599 ] Actus Primus . Scoena Prima . Enter Barnardo and Francisco two Centinels . Barnardo . Who ' s there ? Fran . Nay answer me : Stand & vnfold your selfe Bar . Long liue the King Fran . Barnardo ? Bar . He Fran . You come most carefully vpon your houre Bar . ' Tis now strook twelue , get thee to bed Francisco Fran . For this releefe much thankes : ' Tis bitter cold , And I am sicke at heart Barn . Haue you had quiet Guard ? Fran . Not a Mouse stirring Barn . Well , goodnight . If you do meet Horatio and Marcellus , the Riuals of my Watch , bid them make hast . Enter Horatio and Marcellus . Fran . I thinke I heare them . Stand : who ' s there ? Hor . Friends to this ground Mar . And Leige - men to the Dane Fran . Giue you good night Mar . O farwel honest Soldier , who hath relieu ' d you ? Fra . Barnardo ha ' s my place : giue you goodnight . Exit Fran . Mar . Holla Barnardo Bar . Say , what is Horatio there ? Hor . A peece of him Bar . Welcome Horatio , welcome good Marcellus Mar . What , ha ' s this thing appear ' d againe to night Bar . I haue seene nothing Mar . Horatio saies , ' tis but our Fantasie , And will not let beleefe take hold of him Touching this dreaded sight , twice seene of vs , Therefore I haue intreated him along With vs , to watch the minutes of this Night , That if againe this Apparition come , He may approue our eyes , and speake to it Hor . Tush , tush , ' twill not appeare Bar . Sit downe a - while , And let vs once againe assaile your eares , That are so fortified against our Story , What we two Nights haue seene Hor . Well , sit we downe , And let vs heare Barnardo speake of this Barn . Last night of all , When yond same Starre that ' s Westward from the Pole Had made his course t ' illume that part of Heauen Where now it burnes , Marcellus and my selfe , The Bell then beating one Mar . Peace , breake thee of : Enter the Ghost . Looke where it comes againe Barn . In the same figure , like the King that ' s dead Mar . Thou art a Scholler ; speake to it Horatio Barn . Lookes it not like the King ? Marke it Horatio Hora . Most like : It harrowes me with fear & wonder Barn . It would be spoke too Mar . Question it Horatio Hor . What art "
          ],
          "name": "stdout"
        }
      ]
    },
    {
      "cell_type": "code",
      "metadata": {
        "id": "-sYX3f4no-Hs",
        "colab_type": "code",
        "colab": {}
      },
      "source": [
        "AI  = \"\"\"Come all ye maidens young and fair And you that are blooming in your prime Always beware and keep your garden fair Let no man steal away your thyme For thyme it is a precious thing\n",
        "And thyme brings all things to my mind nlyme with all its flavours, along with all its joy Thyme, brings all things to\"\"\"\n"
      ],
      "execution_count": null,
      "outputs": []
    },
    {
      "cell_type": "code",
      "metadata": {
        "id": "EfdGO_zMpqcA",
        "colab_type": "code",
        "colab": {
          "base_uri": "https://localhost:8080/",
          "height": 70
        },
        "outputId": "5de3aeaa-2ce2-4ecb-8921-54afe577c138"
      },
      "source": [
        "type(AI)\n",
        "nltk.download('punkt')"
      ],
      "execution_count": null,
      "outputs": [
        {
          "output_type": "stream",
          "text": [
            "[nltk_data] Downloading package punkt to /root/nltk_data...\n",
            "[nltk_data]   Unzipping tokenizers/punkt.zip.\n"
          ],
          "name": "stdout"
        },
        {
          "output_type": "execute_result",
          "data": {
            "text/plain": [
              "True"
            ]
          },
          "metadata": {
            "tags": []
          },
          "execution_count": 26
        }
      ]
    },
    {
      "cell_type": "code",
      "metadata": {
        "id": "AvkQ_oysqYix",
        "colab_type": "code",
        "colab": {
          "base_uri": "https://localhost:8080/",
          "height": 1000
        },
        "outputId": "9d3e2a15-0bd8-4042-aad4-2344de46581f"
      },
      "source": [
        "from nltk.tokenize import word_tokenize\n",
        "AI_token = word_tokenize(AI)\n",
        "AI_token"
      ],
      "execution_count": null,
      "outputs": [
        {
          "output_type": "execute_result",
          "data": {
            "text/plain": [
              "['Come',\n",
              " 'all',\n",
              " 'ye',\n",
              " 'maidens',\n",
              " 'young',\n",
              " 'and',\n",
              " 'fair',\n",
              " 'And',\n",
              " 'you',\n",
              " 'that',\n",
              " 'are',\n",
              " 'blooming',\n",
              " 'in',\n",
              " 'your',\n",
              " 'prime',\n",
              " 'Always',\n",
              " 'beware',\n",
              " 'and',\n",
              " 'keep',\n",
              " 'your',\n",
              " 'garden',\n",
              " 'fair',\n",
              " 'Let',\n",
              " 'no',\n",
              " 'man',\n",
              " 'steal',\n",
              " 'away',\n",
              " 'your',\n",
              " 'thyme',\n",
              " 'For',\n",
              " 'thyme',\n",
              " 'it',\n",
              " 'is',\n",
              " 'a',\n",
              " 'precious',\n",
              " 'thing',\n",
              " 'And',\n",
              " 'thyme',\n",
              " 'brings',\n",
              " 'all',\n",
              " 'things',\n",
              " 'to',\n",
              " 'my',\n",
              " 'mind',\n",
              " 'nlyme',\n",
              " 'with',\n",
              " 'all',\n",
              " 'its',\n",
              " 'flavours',\n",
              " ',',\n",
              " 'along',\n",
              " 'with',\n",
              " 'all',\n",
              " 'its',\n",
              " 'joy',\n",
              " 'Thyme',\n",
              " ',',\n",
              " 'brings',\n",
              " 'all',\n",
              " 'things',\n",
              " 'to']"
            ]
          },
          "metadata": {
            "tags": []
          },
          "execution_count": 27
        }
      ]
    },
    {
      "cell_type": "code",
      "metadata": {
        "id": "7-sE0xMCq7WS",
        "colab_type": "code",
        "colab": {
          "base_uri": "https://localhost:8080/",
          "height": 34
        },
        "outputId": "4243ce8c-9857-4b73-ede8-026290542634"
      },
      "source": [
        "len(AI_token)"
      ],
      "execution_count": null,
      "outputs": [
        {
          "output_type": "execute_result",
          "data": {
            "text/plain": [
              "61"
            ]
          },
          "metadata": {
            "tags": []
          },
          "execution_count": 28
        }
      ]
    },
    {
      "cell_type": "code",
      "metadata": {
        "id": "bkheNWmqsNzJ",
        "colab_type": "code",
        "colab": {}
      },
      "source": [
        "# To find frequency of Word counts in paragraph\n",
        "from nltk.probability import FreqDist\n",
        "fdist= FreqDist()\n"
      ],
      "execution_count": null,
      "outputs": []
    },
    {
      "cell_type": "code",
      "metadata": {
        "id": "Orl_F01FsfRS",
        "colab_type": "code",
        "colab": {
          "base_uri": "https://localhost:8080/",
          "height": 763
        },
        "outputId": "35b457d9-a34d-4c6d-f938-26d31aadbc20"
      },
      "source": [
        "for word in AI_token:\n",
        "  fdist[word.lower()]+=1\n",
        "fdist"
      ],
      "execution_count": null,
      "outputs": [
        {
          "output_type": "execute_result",
          "data": {
            "text/plain": [
              "FreqDist({',': 6,\n",
              "          'a': 3,\n",
              "          'all': 15,\n",
              "          'along': 3,\n",
              "          'always': 3,\n",
              "          'and': 12,\n",
              "          'are': 3,\n",
              "          'away': 3,\n",
              "          'beware': 3,\n",
              "          'blooming': 3,\n",
              "          'brings': 6,\n",
              "          'come': 3,\n",
              "          'fair': 6,\n",
              "          'flavours': 3,\n",
              "          'for': 3,\n",
              "          'garden': 3,\n",
              "          'in': 3,\n",
              "          'is': 3,\n",
              "          'it': 3,\n",
              "          'its': 6,\n",
              "          'joy': 3,\n",
              "          'keep': 3,\n",
              "          'let': 3,\n",
              "          'maidens': 3,\n",
              "          'man': 3,\n",
              "          'mind': 3,\n",
              "          'my': 3,\n",
              "          'nlyme': 3,\n",
              "          'no': 3,\n",
              "          'precious': 3,\n",
              "          'prime': 3,\n",
              "          'steal': 3,\n",
              "          'that': 3,\n",
              "          'thing': 3,\n",
              "          'things': 6,\n",
              "          'thyme': 12,\n",
              "          'to': 6,\n",
              "          'with': 6,\n",
              "          'ye': 3,\n",
              "          'you': 3,\n",
              "          'young': 3,\n",
              "          'your': 9})"
            ]
          },
          "metadata": {
            "tags": []
          },
          "execution_count": 34
        }
      ]
    },
    {
      "cell_type": "code",
      "metadata": {
        "id": "rkIUL7ZAstii",
        "colab_type": "code",
        "colab": {
          "base_uri": "https://localhost:8080/",
          "height": 194
        },
        "outputId": "4a34d4fc-5f21-494f-d867-59d13ba1c412"
      },
      "source": [
        "# TO find top10 frequently repeated word\n",
        "fdist_top10= fdist.most_common(10)\n",
        "fdist_top10"
      ],
      "execution_count": null,
      "outputs": [
        {
          "output_type": "execute_result",
          "data": {
            "text/plain": [
              "[('all', 15),\n",
              " ('and', 12),\n",
              " ('thyme', 12),\n",
              " ('your', 9),\n",
              " ('fair', 6),\n",
              " ('brings', 6),\n",
              " ('things', 6),\n",
              " ('to', 6),\n",
              " ('with', 6),\n",
              " ('its', 6)]"
            ]
          },
          "metadata": {
            "tags": []
          },
          "execution_count": 35
        }
      ]
    },
    {
      "cell_type": "code",
      "metadata": {
        "id": "me515aLathOF",
        "colab_type": "code",
        "colab": {}
      },
      "source": [
        "from nltk.util import bigrams, trigrams,ngrams"
      ],
      "execution_count": null,
      "outputs": []
    },
    {
      "cell_type": "code",
      "metadata": {
        "id": "KC43KwVpub31",
        "colab_type": "code",
        "colab": {
          "base_uri": "https://localhost:8080/",
          "height": 230
        },
        "outputId": "0604eac8-156b-4b8a-9a6a-d96772aaf8dd"
      },
      "source": [
        "string= \" Tajmahal in India, is one of the seven wonder of world\"\n",
        "quote_tok= nltk.word_tokenize(string)\n",
        "quote_tok"
      ],
      "execution_count": null,
      "outputs": [
        {
          "output_type": "execute_result",
          "data": {
            "text/plain": [
              "['Tajmahal',\n",
              " 'in',\n",
              " 'India',\n",
              " ',',\n",
              " 'is',\n",
              " 'one',\n",
              " 'of',\n",
              " 'the',\n",
              " 'seven',\n",
              " 'wonder',\n",
              " 'of',\n",
              " 'world']"
            ]
          },
          "metadata": {
            "tags": []
          },
          "execution_count": 37
        }
      ]
    },
    {
      "cell_type": "code",
      "metadata": {
        "id": "qruJ49Evu05i",
        "colab_type": "code",
        "colab": {
          "base_uri": "https://localhost:8080/",
          "height": 212
        },
        "outputId": "5e8e8b49-2700-4799-fa13-0834bd52dfc2"
      },
      "source": [
        "# Bigram -> seq of 2 word\n",
        "quote_bigram= list (nltk.bigrams(quote_tok))\n",
        "quote_bigram"
      ],
      "execution_count": null,
      "outputs": [
        {
          "output_type": "execute_result",
          "data": {
            "text/plain": [
              "[('Tajmahal', 'in'),\n",
              " ('in', 'India'),\n",
              " ('India', ','),\n",
              " (',', 'is'),\n",
              " ('is', 'one'),\n",
              " ('one', 'of'),\n",
              " ('of', 'the'),\n",
              " ('the', 'seven'),\n",
              " ('seven', 'wonder'),\n",
              " ('wonder', 'of'),\n",
              " ('of', 'world')]"
            ]
          },
          "metadata": {
            "tags": []
          },
          "execution_count": 38
        }
      ]
    },
    {
      "cell_type": "code",
      "metadata": {
        "id": "Cr_t8D_7vw_s",
        "colab_type": "code",
        "colab": {
          "base_uri": "https://localhost:8080/",
          "height": 194
        },
        "outputId": "9f3bd141-2bff-4508-fa60-381702d984e3"
      },
      "source": [
        "# Trigram --> Seq of 3 words\n",
        "quote_trigram = list(nltk.trigrams(quote_tok))\n",
        "quote_trigram"
      ],
      "execution_count": null,
      "outputs": [
        {
          "output_type": "execute_result",
          "data": {
            "text/plain": [
              "[('Tajmahal', 'in', 'India'),\n",
              " ('in', 'India', ','),\n",
              " ('India', ',', 'is'),\n",
              " (',', 'is', 'one'),\n",
              " ('is', 'one', 'of'),\n",
              " ('one', 'of', 'the'),\n",
              " ('of', 'the', 'seven'),\n",
              " ('the', 'seven', 'wonder'),\n",
              " ('seven', 'wonder', 'of'),\n",
              " ('wonder', 'of', 'world')]"
            ]
          },
          "metadata": {
            "tags": []
          },
          "execution_count": 39
        }
      ]
    },
    {
      "cell_type": "code",
      "metadata": {
        "id": "z0D9ndO4wQqL",
        "colab_type": "code",
        "colab": {
          "base_uri": "https://localhost:8080/",
          "height": 176
        },
        "outputId": "4f07cad1-d0d9-49e5-9302-b96b0777ce83"
      },
      "source": [
        "# N gram- > Seq of 'N' specified words\n",
        "quote_ngram= list(nltk.ngrams(quote_tok, 4))\n",
        "quote_ngram\n"
      ],
      "execution_count": null,
      "outputs": [
        {
          "output_type": "execute_result",
          "data": {
            "text/plain": [
              "[('Tajmahal', 'in', 'India', ','),\n",
              " ('in', 'India', ',', 'is'),\n",
              " ('India', ',', 'is', 'one'),\n",
              " (',', 'is', 'one', 'of'),\n",
              " ('is', 'one', 'of', 'the'),\n",
              " ('one', 'of', 'the', 'seven'),\n",
              " ('of', 'the', 'seven', 'wonder'),\n",
              " ('the', 'seven', 'wonder', 'of'),\n",
              " ('seven', 'wonder', 'of', 'world')]"
            ]
          },
          "metadata": {
            "tags": []
          },
          "execution_count": 40
        }
      ]
    },
    {
      "cell_type": "markdown",
      "metadata": {
        "id": "PfPcpve_xaqe",
        "colab_type": "text"
      },
      "source": [
        "# Stemming\n",
        "Normalise word into base form or ROOT form. Cutting of word either in end or begining of word\n"
      ]
    },
    {
      "cell_type": "code",
      "metadata": {
        "id": "0ua9jes2wsgZ",
        "colab_type": "code",
        "colab": {}
      },
      "source": [
        "from nltk.stem import PorterStemmer\n",
        "pst=PorterStemmer()\n",
        "\n"
      ],
      "execution_count": null,
      "outputs": []
    },
    {
      "cell_type": "code",
      "metadata": {
        "id": "bCJ0dy46xrtv",
        "colab_type": "code",
        "colab": {
          "base_uri": "https://localhost:8080/",
          "height": 34
        },
        "outputId": "7baeed01-9386-42ab-ae44-875b7eab029e"
      },
      "source": [
        "pst.stem(\"eating\")"
      ],
      "execution_count": null,
      "outputs": [
        {
          "output_type": "execute_result",
          "data": {
            "text/plain": [
              "'eat'"
            ]
          },
          "metadata": {
            "tags": []
          },
          "execution_count": 43
        }
      ]
    },
    {
      "cell_type": "code",
      "metadata": {
        "id": "012TspLOxuB6",
        "colab_type": "code",
        "colab": {
          "base_uri": "https://localhost:8080/",
          "height": 87
        },
        "outputId": "b3fdac0b-a82e-4426-be92-85aa63e068f9"
      },
      "source": [
        "word_to_stem =[ \"give\",\"giving\",\"gave\",\"given\"]\n",
        "for i in word_to_stem :\n",
        "  print(i + \":\" +pst.stem(i))"
      ],
      "execution_count": null,
      "outputs": [
        {
          "output_type": "stream",
          "text": [
            "give:give\n",
            "giving:give\n",
            "gave:gave\n",
            "given:given\n"
          ],
          "name": "stdout"
        }
      ]
    },
    {
      "cell_type": "code",
      "metadata": {
        "id": "KZDbWhDbyPRX",
        "colab_type": "code",
        "colab": {}
      },
      "source": [
        "from nltk.stem import LancasterStemmer\n",
        "pst1=LancasterStemmer()\n"
      ],
      "execution_count": null,
      "outputs": []
    },
    {
      "cell_type": "code",
      "metadata": {
        "id": "fOgU7E9hy2G1",
        "colab_type": "code",
        "colab": {
          "base_uri": "https://localhost:8080/",
          "height": 87
        },
        "outputId": "82910757-892b-480d-85d5-dec29ad4b913"
      },
      "source": [
        "word_to_stem =[ \"give\",\"giving\",\"gave\",\"given\"]\n",
        "for i in word_to_stem :\n",
        "  print(i + \":\" +pst1.stem(i))"
      ],
      "execution_count": null,
      "outputs": [
        {
          "output_type": "stream",
          "text": [
            "give:giv\n",
            "giving:giv\n",
            "gave:gav\n",
            "given:giv\n"
          ],
          "name": "stdout"
        }
      ]
    },
    {
      "cell_type": "code",
      "metadata": {
        "id": "Q2Tsd-bey9am",
        "colab_type": "code",
        "colab": {}
      },
      "source": [
        ""
      ],
      "execution_count": null,
      "outputs": []
    }
  ]
}