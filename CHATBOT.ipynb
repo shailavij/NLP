{
  "nbformat": 4,
  "nbformat_minor": 0,
  "metadata": {
    "colab": {
      "name": "CHATBOT",
      "provenance": [],
      "authorship_tag": "ABX9TyOPYkflNfaMaqM+zk4cZrBQ",
      "include_colab_link": true
    },
    "kernelspec": {
      "name": "python3",
      "display_name": "Python 3"
    }
  },
  "cells": [
    {
      "cell_type": "markdown",
      "metadata": {
        "id": "view-in-github",
        "colab_type": "text"
      },
      "source": [
        "<a href=\"https://colab.research.google.com/github/shailavij/NLP/blob/master/CHATBOT.ipynb\" target=\"_parent\"><img src=\"https://colab.research.google.com/assets/colab-badge.svg\" alt=\"Open In Colab\"/></a>"
      ]
    },
    {
      "cell_type": "code",
      "metadata": {
        "id": "ZRWV1t_-pXe0",
        "colab_type": "code",
        "colab": {}
      },
      "source": [
        "# Import packages\n",
        "import nltk\n",
        "from nltk.stem import WordNetLemmatizer\n",
        "lemmatizer = WordNetLemmatizer()\n",
        "import json\n",
        "import pickle\n",
        "\n",
        "import numpy as np\n",
        "from keras.models import Sequential\n",
        "from keras.layers import Dense, Activation, Dropout\n",
        "from keras.optimizers import SGD\n",
        "import random\n",
        "\n",
        "words=[]\n",
        "classes=[]\n",
        "documents =[]\n",
        "\n"
      ],
      "execution_count": null,
      "outputs": []
    },
    {
      "cell_type": "code",
      "metadata": {
        "id": "3oAfXnEeqvIU",
        "colab_type": "code",
        "colab": {
          "base_uri": "https://localhost:8080/",
          "height": 125
        },
        "outputId": "73bdab21-b134-4d62-c81b-0facc7636a4a"
      },
      "source": [
        "# Run this cell to connect to your Drive folder\n",
        "\n",
        "from google.colab import drive\n",
        "drive.mount('/content/drive', force_remount=True)"
      ],
      "execution_count": null,
      "outputs": [
        {
          "output_type": "stream",
          "text": [
            "Go to this URL in a browser: https://accounts.google.com/o/oauth2/auth?client_id=947318989803-6bn6qk8qdgf4n4g3pfee6491hc0brc4i.apps.googleusercontent.com&redirect_uri=urn%3aietf%3awg%3aoauth%3a2.0%3aoob&response_type=code&scope=email%20https%3a%2f%2fwww.googleapis.com%2fauth%2fdocs.test%20https%3a%2f%2fwww.googleapis.com%2fauth%2fdrive%20https%3a%2f%2fwww.googleapis.com%2fauth%2fdrive.photos.readonly%20https%3a%2f%2fwww.googleapis.com%2fauth%2fpeopleapi.readonly\n",
            "\n",
            "Enter your authorization code:\n",
            "··········\n",
            "Mounted at /content/drive\n"
          ],
          "name": "stdout"
        }
      ]
    },
    {
      "cell_type": "code",
      "metadata": {
        "id": "WaOoon2xrXSs",
        "colab_type": "code",
        "colab": {
          "base_uri": "https://localhost:8080/",
          "height": 34
        },
        "outputId": "4b2d0ac5-259d-4288-8a0e-96021e997731"
      },
      "source": [
        "%cd /content/drive/My Drive/DL_DATASet/"
      ],
      "execution_count": null,
      "outputs": [
        {
          "output_type": "stream",
          "text": [
            "/content/drive/My Drive/DL_DATASet\n"
          ],
          "name": "stdout"
        }
      ]
    },
    {
      "cell_type": "code",
      "metadata": {
        "id": "HeQtfU5CpdiZ",
        "colab_type": "code",
        "colab": {
          "base_uri": "https://localhost:8080/",
          "height": 1000
        },
        "outputId": "728a7a42-a182-49d1-be27-71c6003e285c"
      },
      "source": [
        "ignore_words = ['?', '!']\n",
        "data_file = open('intents.json').read()\n",
        "input = json.loads(data_file)\n",
        "input\n"
      ],
      "execution_count": null,
      "outputs": [
        {
          "output_type": "execute_result",
          "data": {
            "text/plain": [
              "{'intents': [{'context': [''],\n",
              "   'patterns': ['Hi there',\n",
              "    'How are you',\n",
              "    'Is anyone there?',\n",
              "    'Hey',\n",
              "    'Hola',\n",
              "    'Hello',\n",
              "    'Good day'],\n",
              "   'responses': ['Hello, thanks for asking',\n",
              "    'Good to see you again',\n",
              "    'Hi there, how can I help?'],\n",
              "   'tag': 'greeting'},\n",
              "  {'context': [''],\n",
              "   'patterns': ['Bye',\n",
              "    'See you later',\n",
              "    'Goodbye',\n",
              "    'Nice chatting to you, bye',\n",
              "    'Till next time'],\n",
              "   'responses': ['See you!', 'Have a nice day', 'Bye! Come back again soon.'],\n",
              "   'tag': 'goodbye'},\n",
              "  {'context': [''],\n",
              "   'patterns': ['Thanks',\n",
              "    'Thank you',\n",
              "    \"That's helpful\",\n",
              "    'Awesome, thanks',\n",
              "    'Thanks for helping me'],\n",
              "   'responses': ['Happy to help!', 'Any time!', 'My pleasure'],\n",
              "   'tag': 'thanks'},\n",
              "  {'context': [''],\n",
              "   'patterns': [],\n",
              "   'responses': [\"Sorry, can't understand you\",\n",
              "    'Please give me more info',\n",
              "    'Not sure I understand'],\n",
              "   'tag': 'noanswer'},\n",
              "  {'context': [''],\n",
              "   'patterns': ['How you could help me?',\n",
              "    'What you can do?',\n",
              "    'What help you provide?',\n",
              "    'How you can be helpful?',\n",
              "    'What support is offered'],\n",
              "   'responses': ['I can guide you through Adverse drug reaction list, Blood pressure tracking, Hospitals and Pharmacies',\n",
              "    'Offering support for Adverse drug reaction, Blood pressure, Hospitals and Pharmacies'],\n",
              "   'tag': 'options'},\n",
              "  {'context': [''],\n",
              "   'patterns': ['How to check Adverse drug reaction?',\n",
              "    'Open adverse drugs module',\n",
              "    'Give me a list of drugs causing adverse behavior',\n",
              "    'List all drugs suitable for patient with adverse reaction',\n",
              "    'Which drugs dont have adverse reaction?'],\n",
              "   'responses': ['Navigating to Adverse drug reaction module'],\n",
              "   'tag': 'adverse_drug'},\n",
              "  {'context': [''],\n",
              "   'patterns': ['Open blood pressure module',\n",
              "    'Task related to blood pressure',\n",
              "    'Blood pressure data entry',\n",
              "    'I want to log blood pressure results',\n",
              "    'Blood pressure data management'],\n",
              "   'responses': ['Navigating to Blood Pressure module'],\n",
              "   'tag': 'blood_pressure'},\n",
              "  {'context': ['search_blood_pressure_by_patient_id'],\n",
              "   'patterns': ['I want to search for blood pressure result history',\n",
              "    'Blood pressure for patient',\n",
              "    'Load patient blood pressure result',\n",
              "    'Show blood pressure results for patient',\n",
              "    'Find blood pressure results by ID'],\n",
              "   'responses': ['Please provide Patient ID', 'Patient ID?'],\n",
              "   'tag': 'blood_pressure_search'},\n",
              "  {'context': [''],\n",
              "   'patterns': [],\n",
              "   'responses': ['Loading Blood pressure result for Patient'],\n",
              "   'tag': 'search_blood_pressure_by_patient_id'},\n",
              "  {'context': ['search_pharmacy_by_name'],\n",
              "   'patterns': ['Find me a pharmacy',\n",
              "    'Find pharmacy',\n",
              "    'List of pharmacies nearby',\n",
              "    'Locate pharmacy',\n",
              "    'Search pharmacy'],\n",
              "   'responses': ['Please provide pharmacy name'],\n",
              "   'tag': 'pharmacy_search'},\n",
              "  {'context': [''],\n",
              "   'patterns': [],\n",
              "   'responses': ['Loading pharmacy details'],\n",
              "   'tag': 'search_pharmacy_by_name'},\n",
              "  {'context': ['search_hospital_by_params'],\n",
              "   'patterns': ['Lookup for hospital',\n",
              "    'Searching for hospital to transfer patient',\n",
              "    'I want to search hospital data',\n",
              "    'Hospital lookup for patient',\n",
              "    'Looking up hospital details'],\n",
              "   'responses': ['Please provide hospital name or location'],\n",
              "   'tag': 'hospital_search'},\n",
              "  {'context': ['search_hospital_by_type'],\n",
              "   'patterns': [],\n",
              "   'responses': ['Please provide hospital type'],\n",
              "   'tag': 'search_hospital_by_params'},\n",
              "  {'context': [''],\n",
              "   'patterns': [],\n",
              "   'responses': ['Loading hospital details'],\n",
              "   'tag': 'search_hospital_by_type'}]}"
            ]
          },
          "metadata": {
            "tags": []
          },
          "execution_count": 17
        }
      ]
    },
    {
      "cell_type": "code",
      "metadata": {
        "id": "YEqqB04atgKz",
        "colab_type": "code",
        "colab": {
          "base_uri": "https://localhost:8080/",
          "height": 70
        },
        "outputId": "e9076e3a-87f0-4710-bdbf-f39a54767691"
      },
      "source": [
        "nltk.download('punkt')\n",
        " "
      ],
      "execution_count": null,
      "outputs": [
        {
          "output_type": "stream",
          "text": [
            "[nltk_data] Downloading package punkt to /root/nltk_data...\n",
            "[nltk_data]   Unzipping tokenizers/punkt.zip.\n"
          ],
          "name": "stdout"
        },
        {
          "output_type": "execute_result",
          "data": {
            "text/plain": [
              "True"
            ]
          },
          "metadata": {
            "tags": []
          },
          "execution_count": 14
        }
      ]
    },
    {
      "cell_type": "code",
      "metadata": {
        "id": "ms1znfj2rc2v",
        "colab_type": "code",
        "colab": {}
      },
      "source": [
        "#Preprocess data\n",
        "for intent in input['intents']:\n",
        "    for pattern in intent['patterns']:\n",
        "\n",
        "        #tokenize each word\n",
        "        w = nltk.word_tokenize(pattern)\n",
        "        words.extend(w)\n",
        "        #print(words)\n",
        "        #add documents in the corpus\n",
        "        documents.append((w, intent['tag']))\n",
        "        #print(documents)\n",
        "\n",
        "        # add to our classes list\n",
        "        if intent['tag'] not in classes:\n",
        "            classes.append(intent['tag'])\n",
        "        print(classes)\n"
      ],
      "execution_count": null,
      "outputs": []
    },
    {
      "cell_type": "code",
      "metadata": {
        "id": "UBzXN0clvJhn",
        "colab_type": "code",
        "colab": {
          "base_uri": "https://localhost:8080/",
          "height": 34
        },
        "outputId": "6a1194ef-1510-43a0-d053-3c3251d368a4"
      },
      "source": [
        "type(intents)"
      ],
      "execution_count": null,
      "outputs": [
        {
          "output_type": "execute_result",
          "data": {
            "text/plain": [
              "dict"
            ]
          },
          "metadata": {
            "tags": []
          },
          "execution_count": 33
        }
      ]
    },
    {
      "cell_type": "code",
      "metadata": {
        "id": "8ElXLvyBwvlx",
        "colab_type": "code",
        "colab": {
          "base_uri": "https://localhost:8080/",
          "height": 54
        },
        "outputId": "c1fa156b-40b4-4bde-a5bb-e27e968b9943"
      },
      "source": [
        "intents.values()"
      ],
      "execution_count": null,
      "outputs": [
        {
          "output_type": "execute_result",
          "data": {
            "text/plain": [
              "dict_values([[{'tag': 'greeting', 'patterns': ['Hi there', 'How are you', 'Is anyone there?', 'Hey', 'Hola', 'Hello', 'Good day'], 'responses': ['Hello, thanks for asking', 'Good to see you again', 'Hi there, how can I help?'], 'context': ['']}, {'tag': 'goodbye', 'patterns': ['Bye', 'See you later', 'Goodbye', 'Nice chatting to you, bye', 'Till next time'], 'responses': ['See you!', 'Have a nice day', 'Bye! Come back again soon.'], 'context': ['']}, {'tag': 'thanks', 'patterns': ['Thanks', 'Thank you', \"That's helpful\", 'Awesome, thanks', 'Thanks for helping me'], 'responses': ['Happy to help!', 'Any time!', 'My pleasure'], 'context': ['']}, {'tag': 'noanswer', 'patterns': [], 'responses': [\"Sorry, can't understand you\", 'Please give me more info', 'Not sure I understand'], 'context': ['']}, {'tag': 'options', 'patterns': ['How you could help me?', 'What you can do?', 'What help you provide?', 'How you can be helpful?', 'What support is offered'], 'responses': ['I can guide you through Adverse drug reaction list, Blood pressure tracking, Hospitals and Pharmacies', 'Offering support for Adverse drug reaction, Blood pressure, Hospitals and Pharmacies'], 'context': ['']}, {'tag': 'adverse_drug', 'patterns': ['How to check Adverse drug reaction?', 'Open adverse drugs module', 'Give me a list of drugs causing adverse behavior', 'List all drugs suitable for patient with adverse reaction', 'Which drugs dont have adverse reaction?'], 'responses': ['Navigating to Adverse drug reaction module'], 'context': ['']}, {'tag': 'blood_pressure', 'patterns': ['Open blood pressure module', 'Task related to blood pressure', 'Blood pressure data entry', 'I want to log blood pressure results', 'Blood pressure data management'], 'responses': ['Navigating to Blood Pressure module'], 'context': ['']}, {'tag': 'blood_pressure_search', 'patterns': ['I want to search for blood pressure result history', 'Blood pressure for patient', 'Load patient blood pressure result', 'Show blood pressure results for patient', 'Find blood pressure results by ID'], 'responses': ['Please provide Patient ID', 'Patient ID?'], 'context': ['search_blood_pressure_by_patient_id']}, {'tag': 'search_blood_pressure_by_patient_id', 'patterns': [], 'responses': ['Loading Blood pressure result for Patient'], 'context': ['']}, {'tag': 'pharmacy_search', 'patterns': ['Find me a pharmacy', 'Find pharmacy', 'List of pharmacies nearby', 'Locate pharmacy', 'Search pharmacy'], 'responses': ['Please provide pharmacy name'], 'context': ['search_pharmacy_by_name']}, {'tag': 'search_pharmacy_by_name', 'patterns': [], 'responses': ['Loading pharmacy details'], 'context': ['']}, {'tag': 'hospital_search', 'patterns': ['Lookup for hospital', 'Searching for hospital to transfer patient', 'I want to search hospital data', 'Hospital lookup for patient', 'Looking up hospital details'], 'responses': ['Please provide hospital name or location'], 'context': ['search_hospital_by_params']}, {'tag': 'search_hospital_by_params', 'patterns': [], 'responses': ['Please provide hospital type'], 'context': ['search_hospital_by_type']}, {'tag': 'search_hospital_by_type', 'patterns': [], 'responses': ['Loading hospital details'], 'context': ['']}]])"
            ]
          },
          "metadata": {
            "tags": []
          },
          "execution_count": 37
        }
      ]
    },
    {
      "cell_type": "code",
      "metadata": {
        "id": "T10PBAwf0qcW",
        "colab_type": "code",
        "colab": {
          "base_uri": "https://localhost:8080/",
          "height": 70
        },
        "outputId": "11cfd4bf-376c-4ba0-d5e6-6d14af622592"
      },
      "source": [
        "nltk.download('wordnet')\n",
        "  "
      ],
      "execution_count": null,
      "outputs": [
        {
          "output_type": "stream",
          "text": [
            "[nltk_data] Downloading package wordnet to /root/nltk_data...\n",
            "[nltk_data]   Unzipping corpora/wordnet.zip.\n"
          ],
          "name": "stdout"
        },
        {
          "output_type": "execute_result",
          "data": {
            "text/plain": [
              "True"
            ]
          },
          "metadata": {
            "tags": []
          },
          "execution_count": 50
        }
      ]
    },
    {
      "cell_type": "code",
      "metadata": {
        "id": "XQhnZhB5xok2",
        "colab_type": "code",
        "colab": {
          "base_uri": "https://localhost:8080/",
          "height": 107
        },
        "outputId": "a9874ae5-39c0-4176-c0d2-0bd2e17ccf14"
      },
      "source": [
        "\n",
        "# lemmaztize and lower each word and remove duplicates\n",
        "words = [lemmatizer.lemmatize(w.lower()) for w in words if w not in ignore_words]\n",
        "words = sorted(list(set(words)))\n",
        "print(words)\n",
        "# sort classes\n",
        "classes = sorted(list(set(classes)))\n",
        "# documents = combination between patterns and intents\n",
        "print (len(documents), \"documents\")\n",
        "# classes = intents\n",
        "print (len(classes), \"classes\", classes)\n",
        "# words = all words, vocabulary\n",
        "print (len(words), \"unique lemmatized words\", words)"
      ],
      "execution_count": null,
      "outputs": [
        {
          "output_type": "stream",
          "text": [
            "[\"'s\", ',', 'a', 'adverse', 'all', 'anyone', 'are', 'awesome', 'be', 'behavior', 'blood', 'by', 'bye', 'can', 'causing', 'chatting', 'check', 'could', 'data', 'day', 'detail', 'do', 'dont', 'drug', 'entry', 'find', 'for', 'give', 'good', 'goodbye', 'have', 'hello', 'help', 'helpful', 'helping', 'hey', 'hi', 'history', 'hola', 'hospital', 'how', 'i', 'id', 'is', 'later', 'list', 'load', 'locate', 'log', 'looking', 'lookup', 'management', 'me', 'module', 'nearby', 'next', 'nice', 'of', 'offered', 'open', 'patient', 'pharmacy', 'pressure', 'provide', 'reaction', 'related', 'result', 'search', 'searching', 'see', 'show', 'suitable', 'support', 'task', 'thank', 'thanks', 'that', 'there', 'till', 'time', 'to', 'transfer', 'up', 'want', 'what', 'which', 'with', 'you']\n",
            "423 documents\n",
            "9 classes ['adverse_drug', 'blood_pressure', 'blood_pressure_search', 'goodbye', 'greeting', 'hospital_search', 'options', 'pharmacy_search', 'thanks']\n",
            "88 unique lemmatized words [\"'s\", ',', 'a', 'adverse', 'all', 'anyone', 'are', 'awesome', 'be', 'behavior', 'blood', 'by', 'bye', 'can', 'causing', 'chatting', 'check', 'could', 'data', 'day', 'detail', 'do', 'dont', 'drug', 'entry', 'find', 'for', 'give', 'good', 'goodbye', 'have', 'hello', 'help', 'helpful', 'helping', 'hey', 'hi', 'history', 'hola', 'hospital', 'how', 'i', 'id', 'is', 'later', 'list', 'load', 'locate', 'log', 'looking', 'lookup', 'management', 'me', 'module', 'nearby', 'next', 'nice', 'of', 'offered', 'open', 'patient', 'pharmacy', 'pressure', 'provide', 'reaction', 'related', 'result', 'search', 'searching', 'see', 'show', 'suitable', 'support', 'task', 'thank', 'thanks', 'that', 'there', 'till', 'time', 'to', 'transfer', 'up', 'want', 'what', 'which', 'with', 'you']\n"
          ],
          "name": "stdout"
        }
      ]
    },
    {
      "cell_type": "code",
      "metadata": {
        "id": "4m_CaYgw0i0X",
        "colab_type": "code",
        "colab": {}
      },
      "source": [
        "pickle.dump(words,open('words.pkl','wb'))\n",
        "pickle.dump(classes,open('classes.pkl','wb'))\n"
      ],
      "execution_count": null,
      "outputs": []
    },
    {
      "cell_type": "code",
      "metadata": {
        "id": "xUhxSpOj2fED",
        "colab_type": "code",
        "colab": {
          "base_uri": "https://localhost:8080/",
          "height": 34
        },
        "outputId": "8fdfe242-ee5e-4368-aa33-e85ae1fc5e1a"
      },
      "source": [
        "# create our training data\n",
        "training = []\n",
        "# create an empty array for our output\n",
        "output_empty = [0] * len(classes)\n",
        "# training set, bag of words for each sentence\n",
        "for doc in documents:\n",
        "    # initialize our bag of words\n",
        "    bag = []\n",
        "    # list of tokenized words for the pattern\n",
        "    pattern_words = doc[0]\n",
        "    # lemmatize each word - create base word, in attempt to represent related words\n",
        "    pattern_words = [lemmatizer.lemmatize(word.lower()) for word in pattern_words]\n",
        "    # create our bag of words array with 1, if word match found in current pattern\n",
        "    for w in words:\n",
        "        bag.append(1) if w in pattern_words else bag.append(0)\n",
        "    \n",
        "    # output is a '0' for each tag and '1' for current tag (for each pattern)\n",
        "    output_row = list(output_empty)\n",
        "    output_row[classes.index(doc[1])] = 1\n",
        "    \n",
        "    training.append([bag, output_row])\n",
        "# shuffle our features and turn into np.array\n",
        "random.shuffle(training)\n",
        "training = np.array(training)\n",
        "# create train and test lists. X - patterns, Y - intents\n",
        "train_x = list(training[:,0])\n",
        "train_y = list(training[:,1])\n",
        "print(\"Training data created\")\n"
      ],
      "execution_count": null,
      "outputs": [
        {
          "output_type": "stream",
          "text": [
            "Training data created\n"
          ],
          "name": "stdout"
        }
      ]
    },
    {
      "cell_type": "code",
      "metadata": {
        "id": "5hL5C9TZ2_Ne",
        "colab_type": "code",
        "colab": {}
      },
      "source": [
        "# Create model - 3 layers. First layer 128 neurons, second layer 64 neurons and 3rd output layer contains number of neurons\n",
        "# equal to number of intents to predict output intent with softmax\n",
        "model = Sequential()\n",
        "model.add(Dense(128, input_shape=(len(train_x[0]),), activation='relu'))\n",
        "model.add(Dropout(0.5))\n",
        "model.add(Dense(64, activation='relu'))\n",
        "model.add(Dropout(0.5))\n",
        "model.add(Dense(len(train_y[0]), activation='softmax'))\n",
        "\n"
      ],
      "execution_count": null,
      "outputs": []
    },
    {
      "cell_type": "code",
      "metadata": {
        "id": "4Ga55h_C3Odz",
        "colab_type": "code",
        "colab": {}
      },
      "source": [
        "# Compile model. Stochastic gradient descent with Nesterov accelerated gradient gives good results for this model\n",
        "sgd = SGD(lr=0.01, decay=1e-6, momentum=0.9, nesterov=True)\n",
        "model.compile(loss='categorical_crossentropy', optimizer=sgd, metrics=['accuracy'])\n"
      ],
      "execution_count": null,
      "outputs": []
    },
    {
      "cell_type": "code",
      "metadata": {
        "id": "ZqN067T83SWV",
        "colab_type": "code",
        "colab": {
          "base_uri": "https://localhost:8080/",
          "height": 1000
        },
        "outputId": "fc40231b-855c-46be-f4e3-fba48628ea47"
      },
      "source": [
        "#fitting and saving the model \n",
        "hist = model.fit(np.array(train_x), np.array(train_y), epochs=200, batch_size=5, verbose=1)\n",
        "model.save('chatbot_model.h5', hist)\n",
        "\n",
        "print(\"model created\")\n"
      ],
      "execution_count": null,
      "outputs": [
        {
          "output_type": "stream",
          "text": [
            "Epoch 1/200\n",
            "423/423 [==============================] - 0s 809us/step - loss: 1.8671 - accuracy: 0.3357\n",
            "Epoch 2/200\n",
            "423/423 [==============================] - 0s 217us/step - loss: 0.9613 - accuracy: 0.7589\n",
            "Epoch 3/200\n",
            "423/423 [==============================] - 0s 236us/step - loss: 0.4980 - accuracy: 0.8463\n",
            "Epoch 4/200\n",
            "423/423 [==============================] - 0s 241us/step - loss: 0.2261 - accuracy: 0.9645\n",
            "Epoch 5/200\n",
            "423/423 [==============================] - 0s 227us/step - loss: 0.1455 - accuracy: 0.9622\n",
            "Epoch 6/200\n",
            "423/423 [==============================] - 0s 232us/step - loss: 0.1493 - accuracy: 0.9669\n",
            "Epoch 7/200\n",
            "423/423 [==============================] - 0s 238us/step - loss: 0.1042 - accuracy: 0.9764\n",
            "Epoch 8/200\n",
            "423/423 [==============================] - 0s 237us/step - loss: 0.0769 - accuracy: 0.9929\n",
            "Epoch 9/200\n",
            "423/423 [==============================] - 0s 245us/step - loss: 0.0520 - accuracy: 0.9882\n",
            "Epoch 10/200\n",
            "423/423 [==============================] - 0s 263us/step - loss: 0.0636 - accuracy: 0.9882\n",
            "Epoch 11/200\n",
            "423/423 [==============================] - 0s 243us/step - loss: 0.0486 - accuracy: 0.9905\n",
            "Epoch 12/200\n",
            "423/423 [==============================] - 0s 217us/step - loss: 0.0647 - accuracy: 0.9764\n",
            "Epoch 13/200\n",
            "423/423 [==============================] - 0s 212us/step - loss: 0.0297 - accuracy: 0.9929\n",
            "Epoch 14/200\n",
            "423/423 [==============================] - 0s 220us/step - loss: 0.0287 - accuracy: 0.9976\n",
            "Epoch 15/200\n",
            "423/423 [==============================] - 0s 210us/step - loss: 0.0532 - accuracy: 0.9905\n",
            "Epoch 16/200\n",
            "423/423 [==============================] - 0s 209us/step - loss: 0.0347 - accuracy: 0.9929\n",
            "Epoch 17/200\n",
            "423/423 [==============================] - 0s 213us/step - loss: 0.0269 - accuracy: 0.9929\n",
            "Epoch 18/200\n",
            "423/423 [==============================] - 0s 230us/step - loss: 0.0339 - accuracy: 0.9905\n",
            "Epoch 19/200\n",
            "423/423 [==============================] - 0s 233us/step - loss: 0.0388 - accuracy: 0.9905\n",
            "Epoch 20/200\n",
            "423/423 [==============================] - 0s 237us/step - loss: 0.0203 - accuracy: 0.9976\n",
            "Epoch 21/200\n",
            "423/423 [==============================] - 0s 261us/step - loss: 0.0222 - accuracy: 0.9953\n",
            "Epoch 22/200\n",
            "423/423 [==============================] - 0s 207us/step - loss: 0.0198 - accuracy: 0.9953\n",
            "Epoch 23/200\n",
            "423/423 [==============================] - 0s 223us/step - loss: 0.0153 - accuracy: 0.9976\n",
            "Epoch 24/200\n",
            "423/423 [==============================] - 0s 213us/step - loss: 0.0144 - accuracy: 0.9953\n",
            "Epoch 25/200\n",
            "423/423 [==============================] - 0s 208us/step - loss: 0.0213 - accuracy: 0.9905\n",
            "Epoch 26/200\n",
            "423/423 [==============================] - 0s 212us/step - loss: 0.0116 - accuracy: 1.0000\n",
            "Epoch 27/200\n",
            "423/423 [==============================] - 0s 212us/step - loss: 0.0196 - accuracy: 0.9953\n",
            "Epoch 28/200\n",
            "423/423 [==============================] - 0s 220us/step - loss: 0.0236 - accuracy: 0.9953\n",
            "Epoch 29/200\n",
            "423/423 [==============================] - 0s 210us/step - loss: 0.0104 - accuracy: 0.9976\n",
            "Epoch 30/200\n",
            "423/423 [==============================] - 0s 213us/step - loss: 0.0096 - accuracy: 1.0000\n",
            "Epoch 31/200\n",
            "423/423 [==============================] - 0s 210us/step - loss: 0.0128 - accuracy: 0.9976\n",
            "Epoch 32/200\n",
            "423/423 [==============================] - 0s 219us/step - loss: 0.0122 - accuracy: 0.9976\n",
            "Epoch 33/200\n",
            "423/423 [==============================] - 0s 212us/step - loss: 0.0119 - accuracy: 0.9976\n",
            "Epoch 34/200\n",
            "423/423 [==============================] - 0s 213us/step - loss: 0.0120 - accuracy: 0.9953\n",
            "Epoch 35/200\n",
            "423/423 [==============================] - 0s 214us/step - loss: 0.0139 - accuracy: 0.9976\n",
            "Epoch 36/200\n",
            "423/423 [==============================] - 0s 209us/step - loss: 0.0091 - accuracy: 1.0000\n",
            "Epoch 37/200\n",
            "423/423 [==============================] - 0s 234us/step - loss: 0.0115 - accuracy: 0.9976\n",
            "Epoch 38/200\n",
            "423/423 [==============================] - 0s 236us/step - loss: 0.0084 - accuracy: 0.9976\n",
            "Epoch 39/200\n",
            "423/423 [==============================] - 0s 234us/step - loss: 0.0067 - accuracy: 1.0000\n",
            "Epoch 40/200\n",
            "423/423 [==============================] - 0s 240us/step - loss: 0.0068 - accuracy: 1.0000\n",
            "Epoch 41/200\n",
            "423/423 [==============================] - 0s 237us/step - loss: 0.0151 - accuracy: 0.9976\n",
            "Epoch 42/200\n",
            "423/423 [==============================] - 0s 247us/step - loss: 0.0079 - accuracy: 1.0000\n",
            "Epoch 43/200\n",
            "423/423 [==============================] - 0s 232us/step - loss: 0.0162 - accuracy: 0.9953\n",
            "Epoch 44/200\n",
            "423/423 [==============================] - 0s 224us/step - loss: 0.0102 - accuracy: 0.9976\n",
            "Epoch 45/200\n",
            "423/423 [==============================] - 0s 220us/step - loss: 0.0102 - accuracy: 0.9953\n",
            "Epoch 46/200\n",
            "423/423 [==============================] - 0s 219us/step - loss: 0.0163 - accuracy: 0.9929\n",
            "Epoch 47/200\n",
            "423/423 [==============================] - 0s 221us/step - loss: 0.0145 - accuracy: 0.9976\n",
            "Epoch 48/200\n",
            "423/423 [==============================] - 0s 217us/step - loss: 0.0061 - accuracy: 0.9976\n",
            "Epoch 49/200\n",
            "423/423 [==============================] - 0s 207us/step - loss: 0.0078 - accuracy: 0.9976\n",
            "Epoch 50/200\n",
            "423/423 [==============================] - 0s 208us/step - loss: 0.0133 - accuracy: 0.9976\n",
            "Epoch 51/200\n",
            "423/423 [==============================] - 0s 240us/step - loss: 0.0069 - accuracy: 1.0000\n",
            "Epoch 52/200\n",
            "423/423 [==============================] - 0s 246us/step - loss: 0.0049 - accuracy: 1.0000\n",
            "Epoch 53/200\n",
            "423/423 [==============================] - 0s 268us/step - loss: 0.0089 - accuracy: 0.9976\n",
            "Epoch 54/200\n",
            "423/423 [==============================] - 0s 218us/step - loss: 0.0134 - accuracy: 0.9953\n",
            "Epoch 55/200\n",
            "423/423 [==============================] - 0s 205us/step - loss: 0.0081 - accuracy: 1.0000\n",
            "Epoch 56/200\n",
            "423/423 [==============================] - 0s 234us/step - loss: 0.0081 - accuracy: 0.9976\n",
            "Epoch 57/200\n",
            "423/423 [==============================] - 0s 210us/step - loss: 0.0064 - accuracy: 1.0000\n",
            "Epoch 58/200\n",
            "423/423 [==============================] - 0s 207us/step - loss: 0.0184 - accuracy: 0.9929\n",
            "Epoch 59/200\n",
            "423/423 [==============================] - 0s 233us/step - loss: 0.0078 - accuracy: 1.0000\n",
            "Epoch 60/200\n",
            "423/423 [==============================] - 0s 230us/step - loss: 0.0037 - accuracy: 1.0000\n",
            "Epoch 61/200\n",
            "423/423 [==============================] - 0s 235us/step - loss: 0.0044 - accuracy: 1.0000\n",
            "Epoch 62/200\n",
            "423/423 [==============================] - 0s 245us/step - loss: 0.0037 - accuracy: 1.0000\n",
            "Epoch 63/200\n",
            "423/423 [==============================] - 0s 265us/step - loss: 0.0072 - accuracy: 1.0000\n",
            "Epoch 64/200\n",
            "423/423 [==============================] - 0s 228us/step - loss: 0.0059 - accuracy: 1.0000\n",
            "Epoch 65/200\n",
            "423/423 [==============================] - 0s 205us/step - loss: 0.0052 - accuracy: 1.0000\n",
            "Epoch 66/200\n",
            "423/423 [==============================] - 0s 207us/step - loss: 0.0146 - accuracy: 0.9953\n",
            "Epoch 67/200\n",
            "423/423 [==============================] - 0s 208us/step - loss: 0.0102 - accuracy: 0.9976\n",
            "Epoch 68/200\n",
            "423/423 [==============================] - 0s 207us/step - loss: 0.0048 - accuracy: 1.0000\n",
            "Epoch 69/200\n",
            "423/423 [==============================] - 0s 212us/step - loss: 0.0051 - accuracy: 1.0000\n",
            "Epoch 70/200\n",
            "423/423 [==============================] - 0s 206us/step - loss: 0.0028 - accuracy: 1.0000\n",
            "Epoch 71/200\n",
            "423/423 [==============================] - 0s 209us/step - loss: 0.0031 - accuracy: 1.0000\n",
            "Epoch 72/200\n",
            "423/423 [==============================] - 0s 209us/step - loss: 0.0040 - accuracy: 1.0000\n",
            "Epoch 73/200\n",
            "423/423 [==============================] - 0s 206us/step - loss: 0.0039 - accuracy: 1.0000\n",
            "Epoch 74/200\n",
            "423/423 [==============================] - 0s 238us/step - loss: 0.0048 - accuracy: 1.0000\n",
            "Epoch 75/200\n",
            "423/423 [==============================] - 0s 221us/step - loss: 0.0056 - accuracy: 1.0000\n",
            "Epoch 76/200\n",
            "423/423 [==============================] - 0s 227us/step - loss: 0.0041 - accuracy: 1.0000\n",
            "Epoch 77/200\n",
            "423/423 [==============================] - 0s 231us/step - loss: 0.0036 - accuracy: 1.0000\n",
            "Epoch 78/200\n",
            "423/423 [==============================] - 0s 213us/step - loss: 0.0037 - accuracy: 1.0000\n",
            "Epoch 79/200\n",
            "423/423 [==============================] - 0s 227us/step - loss: 0.0045 - accuracy: 0.9976\n",
            "Epoch 80/200\n",
            "423/423 [==============================] - 0s 248us/step - loss: 0.0052 - accuracy: 0.9976\n",
            "Epoch 81/200\n",
            "423/423 [==============================] - 0s 236us/step - loss: 0.0027 - accuracy: 1.0000\n",
            "Epoch 82/200\n",
            "423/423 [==============================] - 0s 231us/step - loss: 0.0142 - accuracy: 0.9953\n",
            "Epoch 83/200\n",
            "423/423 [==============================] - 0s 234us/step - loss: 0.0034 - accuracy: 1.0000\n",
            "Epoch 84/200\n",
            "423/423 [==============================] - 0s 241us/step - loss: 0.0025 - accuracy: 1.0000\n",
            "Epoch 85/200\n",
            "423/423 [==============================] - 0s 219us/step - loss: 0.0059 - accuracy: 0.9976\n",
            "Epoch 86/200\n",
            "423/423 [==============================] - 0s 255us/step - loss: 0.0032 - accuracy: 1.0000\n",
            "Epoch 87/200\n",
            "423/423 [==============================] - 0s 242us/step - loss: 0.0079 - accuracy: 0.9976\n",
            "Epoch 88/200\n",
            "423/423 [==============================] - 0s 206us/step - loss: 0.0073 - accuracy: 0.9976\n",
            "Epoch 89/200\n",
            "423/423 [==============================] - 0s 210us/step - loss: 0.0029 - accuracy: 1.0000\n",
            "Epoch 90/200\n",
            "423/423 [==============================] - 0s 240us/step - loss: 0.0017 - accuracy: 1.0000\n",
            "Epoch 91/200\n",
            "423/423 [==============================] - 0s 207us/step - loss: 0.0040 - accuracy: 0.9976\n",
            "Epoch 92/200\n",
            "423/423 [==============================] - 0s 213us/step - loss: 0.0216 - accuracy: 0.9953\n",
            "Epoch 93/200\n",
            "423/423 [==============================] - 0s 220us/step - loss: 0.0046 - accuracy: 1.0000\n",
            "Epoch 94/200\n",
            "423/423 [==============================] - 0s 210us/step - loss: 0.0035 - accuracy: 1.0000\n",
            "Epoch 95/200\n",
            "423/423 [==============================] - 0s 240us/step - loss: 0.0026 - accuracy: 1.0000\n",
            "Epoch 96/200\n",
            "423/423 [==============================] - 0s 220us/step - loss: 0.0029 - accuracy: 1.0000\n",
            "Epoch 97/200\n",
            "423/423 [==============================] - 0s 218us/step - loss: 0.0050 - accuracy: 0.9976\n",
            "Epoch 98/200\n",
            "423/423 [==============================] - 0s 217us/step - loss: 0.0023 - accuracy: 1.0000\n",
            "Epoch 99/200\n",
            "423/423 [==============================] - 0s 214us/step - loss: 0.0019 - accuracy: 1.0000\n",
            "Epoch 100/200\n",
            "423/423 [==============================] - 0s 232us/step - loss: 0.0071 - accuracy: 0.9976\n",
            "Epoch 101/200\n",
            "423/423 [==============================] - 0s 232us/step - loss: 0.0074 - accuracy: 0.9976\n",
            "Epoch 102/200\n",
            "423/423 [==============================] - 0s 238us/step - loss: 0.0030 - accuracy: 1.0000\n",
            "Epoch 103/200\n",
            "423/423 [==============================] - 0s 235us/step - loss: 0.0014 - accuracy: 1.0000\n",
            "Epoch 104/200\n",
            "423/423 [==============================] - 0s 237us/step - loss: 0.0053 - accuracy: 0.9976\n",
            "Epoch 105/200\n",
            "423/423 [==============================] - 0s 228us/step - loss: 0.0019 - accuracy: 1.0000\n",
            "Epoch 106/200\n",
            "423/423 [==============================] - 0s 215us/step - loss: 0.0058 - accuracy: 1.0000\n",
            "Epoch 107/200\n",
            "423/423 [==============================] - 0s 208us/step - loss: 0.0022 - accuracy: 1.0000\n",
            "Epoch 108/200\n",
            "423/423 [==============================] - 0s 211us/step - loss: 0.0061 - accuracy: 0.9976\n",
            "Epoch 109/200\n",
            "423/423 [==============================] - 0s 207us/step - loss: 0.0027 - accuracy: 1.0000\n",
            "Epoch 110/200\n",
            "423/423 [==============================] - 0s 231us/step - loss: 0.0094 - accuracy: 0.9953\n",
            "Epoch 111/200\n",
            "423/423 [==============================] - 0s 243us/step - loss: 0.0017 - accuracy: 1.0000\n",
            "Epoch 112/200\n",
            "423/423 [==============================] - 0s 232us/step - loss: 0.0017 - accuracy: 1.0000\n",
            "Epoch 113/200\n",
            "423/423 [==============================] - 0s 235us/step - loss: 0.0044 - accuracy: 0.9976\n",
            "Epoch 114/200\n",
            "423/423 [==============================] - 0s 254us/step - loss: 0.0030 - accuracy: 1.0000\n",
            "Epoch 115/200\n",
            "423/423 [==============================] - 0s 225us/step - loss: 0.0030 - accuracy: 1.0000\n",
            "Epoch 116/200\n",
            "423/423 [==============================] - 0s 235us/step - loss: 0.0020 - accuracy: 1.0000\n",
            "Epoch 117/200\n",
            "423/423 [==============================] - 0s 219us/step - loss: 0.0028 - accuracy: 1.0000\n",
            "Epoch 118/200\n",
            "423/423 [==============================] - 0s 212us/step - loss: 0.0084 - accuracy: 0.9976\n",
            "Epoch 119/200\n",
            "423/423 [==============================] - 0s 233us/step - loss: 0.0029 - accuracy: 1.0000\n",
            "Epoch 120/200\n",
            "423/423 [==============================] - 0s 235us/step - loss: 0.0027 - accuracy: 1.0000\n",
            "Epoch 121/200\n",
            "423/423 [==============================] - 0s 247us/step - loss: 0.0047 - accuracy: 0.9976\n",
            "Epoch 122/200\n",
            "423/423 [==============================] - 0s 226us/step - loss: 0.0112 - accuracy: 0.9953\n",
            "Epoch 123/200\n",
            "423/423 [==============================] - 0s 207us/step - loss: 0.0032 - accuracy: 1.0000\n",
            "Epoch 124/200\n",
            "423/423 [==============================] - 0s 207us/step - loss: 0.0018 - accuracy: 1.0000\n",
            "Epoch 125/200\n",
            "423/423 [==============================] - 0s 209us/step - loss: 5.2777e-04 - accuracy: 1.0000\n",
            "Epoch 126/200\n",
            "423/423 [==============================] - 0s 221us/step - loss: 7.6695e-04 - accuracy: 1.0000\n",
            "Epoch 127/200\n",
            "423/423 [==============================] - 0s 208us/step - loss: 0.0069 - accuracy: 0.9953\n",
            "Epoch 128/200\n",
            "423/423 [==============================] - 0s 235us/step - loss: 0.0064 - accuracy: 0.9976\n",
            "Epoch 129/200\n",
            "423/423 [==============================] - 0s 272us/step - loss: 0.0020 - accuracy: 1.0000\n",
            "Epoch 130/200\n",
            "423/423 [==============================] - 0s 235us/step - loss: 0.0046 - accuracy: 1.0000\n",
            "Epoch 131/200\n",
            "423/423 [==============================] - 0s 230us/step - loss: 0.0075 - accuracy: 0.9976\n",
            "Epoch 132/200\n",
            "423/423 [==============================] - 0s 238us/step - loss: 0.0038 - accuracy: 0.9976\n",
            "Epoch 133/200\n",
            "423/423 [==============================] - 0s 233us/step - loss: 0.0039 - accuracy: 1.0000\n",
            "Epoch 134/200\n",
            "423/423 [==============================] - 0s 247us/step - loss: 0.0072 - accuracy: 0.9953\n",
            "Epoch 135/200\n",
            "423/423 [==============================] - 0s 236us/step - loss: 0.0045 - accuracy: 0.9976\n",
            "Epoch 136/200\n",
            "423/423 [==============================] - 0s 234us/step - loss: 0.0123 - accuracy: 0.9953\n",
            "Epoch 137/200\n",
            "423/423 [==============================] - 0s 206us/step - loss: 0.0048 - accuracy: 0.9976\n",
            "Epoch 138/200\n",
            "423/423 [==============================] - 0s 209us/step - loss: 0.0082 - accuracy: 0.9976\n",
            "Epoch 139/200\n",
            "423/423 [==============================] - 0s 210us/step - loss: 4.7906e-04 - accuracy: 1.0000\n",
            "Epoch 140/200\n",
            "423/423 [==============================] - 0s 231us/step - loss: 0.0018 - accuracy: 1.0000\n",
            "Epoch 141/200\n",
            "423/423 [==============================] - 0s 235us/step - loss: 0.0028 - accuracy: 1.0000\n",
            "Epoch 142/200\n",
            "423/423 [==============================] - 0s 239us/step - loss: 0.0072 - accuracy: 0.9976\n",
            "Epoch 143/200\n",
            "423/423 [==============================] - 0s 228us/step - loss: 0.0048 - accuracy: 0.9976\n",
            "Epoch 144/200\n",
            "423/423 [==============================] - 0s 243us/step - loss: 0.0012 - accuracy: 1.0000\n",
            "Epoch 145/200\n",
            "423/423 [==============================] - 0s 239us/step - loss: 0.0042 - accuracy: 1.0000\n",
            "Epoch 146/200\n",
            "423/423 [==============================] - 0s 224us/step - loss: 0.0069 - accuracy: 0.9953\n",
            "Epoch 147/200\n",
            "423/423 [==============================] - 0s 253us/step - loss: 0.0105 - accuracy: 0.9953\n",
            "Epoch 148/200\n",
            "423/423 [==============================] - 0s 238us/step - loss: 0.0027 - accuracy: 1.0000\n",
            "Epoch 149/200\n",
            "423/423 [==============================] - 0s 217us/step - loss: 0.0061 - accuracy: 0.9976\n",
            "Epoch 150/200\n",
            "423/423 [==============================] - 0s 212us/step - loss: 0.0046 - accuracy: 0.9976\n",
            "Epoch 151/200\n",
            "423/423 [==============================] - 0s 206us/step - loss: 0.0050 - accuracy: 0.9976\n",
            "Epoch 152/200\n",
            "423/423 [==============================] - 0s 204us/step - loss: 0.0025 - accuracy: 1.0000\n",
            "Epoch 153/200\n",
            "423/423 [==============================] - 0s 207us/step - loss: 0.0011 - accuracy: 1.0000\n",
            "Epoch 154/200\n",
            "423/423 [==============================] - 0s 206us/step - loss: 0.0053 - accuracy: 0.9976\n",
            "Epoch 155/200\n",
            "423/423 [==============================] - 0s 220us/step - loss: 0.0088 - accuracy: 0.9976\n",
            "Epoch 156/200\n",
            "423/423 [==============================] - 0s 223us/step - loss: 0.0090 - accuracy: 0.9953\n",
            "Epoch 157/200\n",
            "423/423 [==============================] - 0s 220us/step - loss: 0.0042 - accuracy: 1.0000\n",
            "Epoch 158/200\n",
            "423/423 [==============================] - 0s 229us/step - loss: 0.0012 - accuracy: 1.0000\n",
            "Epoch 159/200\n",
            "423/423 [==============================] - 0s 236us/step - loss: 0.0051 - accuracy: 0.9976\n",
            "Epoch 160/200\n",
            "423/423 [==============================] - 0s 212us/step - loss: 0.0018 - accuracy: 1.0000\n",
            "Epoch 161/200\n",
            "423/423 [==============================] - 0s 213us/step - loss: 0.0036 - accuracy: 1.0000\n",
            "Epoch 162/200\n",
            "423/423 [==============================] - 0s 211us/step - loss: 5.9722e-04 - accuracy: 1.0000\n",
            "Epoch 163/200\n",
            "423/423 [==============================] - 0s 215us/step - loss: 0.0054 - accuracy: 0.9976\n",
            "Epoch 164/200\n",
            "423/423 [==============================] - 0s 228us/step - loss: 0.0018 - accuracy: 1.0000\n",
            "Epoch 165/200\n",
            "423/423 [==============================] - 0s 208us/step - loss: 0.0013 - accuracy: 1.0000\n",
            "Epoch 166/200\n",
            "423/423 [==============================] - 0s 210us/step - loss: 0.0018 - accuracy: 1.0000\n",
            "Epoch 167/200\n",
            "423/423 [==============================] - 0s 210us/step - loss: 0.0027 - accuracy: 1.0000\n",
            "Epoch 168/200\n",
            "423/423 [==============================] - 0s 236us/step - loss: 0.0017 - accuracy: 1.0000\n",
            "Epoch 169/200\n",
            "423/423 [==============================] - 0s 230us/step - loss: 0.0044 - accuracy: 0.9976\n",
            "Epoch 170/200\n",
            "423/423 [==============================] - 0s 241us/step - loss: 0.0020 - accuracy: 1.0000\n",
            "Epoch 171/200\n",
            "423/423 [==============================] - 0s 202us/step - loss: 0.0077 - accuracy: 0.9976\n",
            "Epoch 172/200\n",
            "423/423 [==============================] - 0s 206us/step - loss: 0.0014 - accuracy: 1.0000\n",
            "Epoch 173/200\n",
            "423/423 [==============================] - 0s 204us/step - loss: 0.0010 - accuracy: 1.0000\n",
            "Epoch 174/200\n",
            "423/423 [==============================] - 0s 207us/step - loss: 0.0014 - accuracy: 1.0000\n",
            "Epoch 175/200\n",
            "423/423 [==============================] - 0s 216us/step - loss: 0.0016 - accuracy: 1.0000\n",
            "Epoch 176/200\n",
            "423/423 [==============================] - 0s 228us/step - loss: 0.0011 - accuracy: 1.0000\n",
            "Epoch 177/200\n",
            "423/423 [==============================] - 0s 230us/step - loss: 0.0017 - accuracy: 1.0000\n",
            "Epoch 178/200\n",
            "423/423 [==============================] - 0s 234us/step - loss: 0.0019 - accuracy: 1.0000\n",
            "Epoch 179/200\n",
            "423/423 [==============================] - 0s 240us/step - loss: 0.0021 - accuracy: 1.0000\n",
            "Epoch 180/200\n",
            "423/423 [==============================] - 0s 222us/step - loss: 0.0066 - accuracy: 0.9976\n",
            "Epoch 181/200\n",
            "423/423 [==============================] - 0s 209us/step - loss: 0.0026 - accuracy: 1.0000\n",
            "Epoch 182/200\n",
            "423/423 [==============================] - 0s 210us/step - loss: 0.0040 - accuracy: 0.9976\n",
            "Epoch 183/200\n",
            "423/423 [==============================] - 0s 225us/step - loss: 0.0021 - accuracy: 1.0000\n",
            "Epoch 184/200\n",
            "423/423 [==============================] - 0s 212us/step - loss: 9.5543e-04 - accuracy: 1.0000\n",
            "Epoch 185/200\n",
            "423/423 [==============================] - 0s 210us/step - loss: 0.0058 - accuracy: 0.9976\n",
            "Epoch 186/200\n",
            "423/423 [==============================] - 0s 207us/step - loss: 7.6637e-04 - accuracy: 1.0000\n",
            "Epoch 187/200\n",
            "423/423 [==============================] - 0s 209us/step - loss: 0.0012 - accuracy: 1.0000\n",
            "Epoch 188/200\n",
            "423/423 [==============================] - 0s 220us/step - loss: 0.0056 - accuracy: 0.9976\n",
            "Epoch 189/200\n",
            "423/423 [==============================] - 0s 208us/step - loss: 0.0041 - accuracy: 0.9976\n",
            "Epoch 190/200\n",
            "423/423 [==============================] - 0s 249us/step - loss: 0.0064 - accuracy: 0.9976\n",
            "Epoch 191/200\n",
            "423/423 [==============================] - 0s 236us/step - loss: 0.0023 - accuracy: 1.0000\n",
            "Epoch 192/200\n",
            "423/423 [==============================] - 0s 234us/step - loss: 0.0011 - accuracy: 1.0000\n",
            "Epoch 193/200\n",
            "423/423 [==============================] - 0s 246us/step - loss: 5.8038e-04 - accuracy: 1.0000\n",
            "Epoch 194/200\n",
            "423/423 [==============================] - 0s 240us/step - loss: 0.0058 - accuracy: 0.9953\n",
            "Epoch 195/200\n",
            "423/423 [==============================] - 0s 238us/step - loss: 0.0053 - accuracy: 0.9976\n",
            "Epoch 196/200\n",
            "423/423 [==============================] - 0s 226us/step - loss: 0.0061 - accuracy: 0.9976\n",
            "Epoch 197/200\n",
            "423/423 [==============================] - 0s 240us/step - loss: 6.0512e-04 - accuracy: 1.0000\n",
            "Epoch 198/200\n",
            "423/423 [==============================] - 0s 228us/step - loss: 0.0010 - accuracy: 1.0000\n",
            "Epoch 199/200\n",
            "423/423 [==============================] - 0s 229us/step - loss: 0.0015 - accuracy: 1.0000\n",
            "Epoch 200/200\n",
            "423/423 [==============================] - 0s 239us/step - loss: 0.0042 - accuracy: 0.9976\n",
            "model created\n"
          ],
          "name": "stdout"
        }
      ]
    },
    {
      "cell_type": "code",
      "metadata": {
        "id": "Rg5uRzqH3Vzu",
        "colab_type": "code",
        "colab": {}
      },
      "source": [
        ""
      ],
      "execution_count": null,
      "outputs": []
    }
  ]
}